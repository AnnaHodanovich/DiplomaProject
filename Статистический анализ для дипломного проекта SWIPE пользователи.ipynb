{
 "cells": [
  {
   "cell_type": "code",
   "execution_count": 187,
   "id": "e97c4ac0",
   "metadata": {},
   "outputs": [],
   "source": [
    "import pandas as pd\n",
    "import plotly.express as px\n",
    "import seaborn as sns\n",
    "import matplotlib.pyplot as plt\n",
    "import datetime\n",
    "from datetime import timezone, timedelta\n",
    "import numpy as np\n",
    "import statsmodels.api as sm\n",
    "import scipy.stats as st\n",
    "from scipy import stats\n",
    "import warnings\n",
    "warnings.filterwarnings(\"ignore\")\n",
    "from sklearn.decomposition import PCA\n",
    "from sklearn.cluster import KMeans\n",
    "from sklearn.metrics import silhouette_score\n",
    "from sklearn.preprocessing import StandardScaler\n",
    "from sklearn.preprocessing import LabelEncoder\n",
    "from kneed import KneeLocator\n",
    "import plotly as px"
   ]
  },
  {
   "cell_type": "code",
   "execution_count": 188,
   "id": "f4a93d39",
   "metadata": {},
   "outputs": [],
   "source": [
    "df = pd.read_excel('all_about_swipe_users_2 (1).xlsx')"
   ]
  },
  {
   "cell_type": "code",
   "execution_count": 189,
   "id": "2caf37ec",
   "metadata": {},
   "outputs": [
    {
     "name": "stdout",
     "output_type": "stream",
     "text": [
      "<class 'pandas.core.frame.DataFrame'>\n",
      "RangeIndex: 143 entries, 0 to 142\n",
      "Data columns (total 40 columns):\n",
      " #   Column                        Non-Null Count  Dtype         \n",
      "---  ------                        --------------  -----         \n",
      " 0   id                            143 non-null    int64         \n",
      " 1   password                      0 non-null      float64       \n",
      " 2   last_login                    0 non-null      float64       \n",
      " 3   is_superuser                  143 non-null    bool          \n",
      " 4   is_staff                      143 non-null    bool          \n",
      " 5   is_active                     143 non-null    bool          \n",
      " 6   date_joined                   143 non-null    datetime64[ns]\n",
      " 7   email                         142 non-null    object        \n",
      " 8   key                           143 non-null    object        \n",
      " 9   first_name                    143 non-null    object        \n",
      " 10  last_name                     143 non-null    object        \n",
      " 11  status                        143 non-null    object        \n",
      " 12  phone_number                  2 non-null      float64       \n",
      " 13  image                         42 non-null     object        \n",
      " 14  group_id                      136 non-null    float64       \n",
      " 15  group_name                    136 non-null    object        \n",
      " 16  badges_best                   127 non-null    float64       \n",
      " 17  badges_detective              127 non-null    float64       \n",
      " 18  badges_expert                 127 non-null    float64       \n",
      " 19  badges_looser                 127 non-null    float64       \n",
      " 20  badges_pride                  127 non-null    float64       \n",
      " 21  badges_reactive               127 non-null    float64       \n",
      " 22  badges_swiper                 127 non-null    float64       \n",
      " 23  badges_swipinist              127 non-null    float64       \n",
      " 24  badges_thumb                  127 non-null    float64       \n",
      " 25  count_of_items                130 non-null    float64       \n",
      " 26  count_of_lessons              130 non-null    float64       \n",
      " 27  count_of_finished_lessons     129 non-null    float64       \n",
      " 28  average_timespent_for_item    130 non-null    datetime64[ns]\n",
      " 29  total_sum_of_points           130 non-null    float64       \n",
      " 30  total_time_spent_in_apps      130 non-null    datetime64[ns]\n",
      " 31  average_timespent_for_lesson  130 non-null    datetime64[ns]\n",
      " 32  average_points_for_lesson     130 non-null    float64       \n",
      " 33  average_points_for_item       130 non-null    float64       \n",
      " 34  Count_of_points_11_course     130 non-null    float64       \n",
      " 35  Count_of_points_9_course      130 non-null    float64       \n",
      " 36  Count_of_points_13_course     130 non-null    float64       \n",
      " 37  Count_of_points_14_course     130 non-null    float64       \n",
      " 38  Count_of_points_16_20_course  130 non-null    float64       \n",
      " 39  Count_of_points_17_course     130 non-null    float64       \n",
      "dtypes: bool(3), datetime64[ns](4), float64(25), int64(1), object(7)\n",
      "memory usage: 41.9+ KB\n"
     ]
    }
   ],
   "source": [
    "df.info()"
   ]
  },
  {
   "cell_type": "code",
   "execution_count": 190,
   "id": "3ee143c9",
   "metadata": {},
   "outputs": [
    {
     "data": {
      "text/plain": [
       "act    143\n",
       "Name: status, dtype: int64"
      ]
     },
     "execution_count": 190,
     "metadata": {},
     "output_type": "execute_result"
    }
   ],
   "source": [
    "df.status.value_counts()"
   ]
  },
  {
   "cell_type": "code",
   "execution_count": 191,
   "id": "fd2689f9",
   "metadata": {},
   "outputs": [
    {
     "data": {
      "text/plain": [
       "Xerox                128\n",
       "Xerox Наблюдатели      8\n",
       "Name: group_name, dtype: int64"
      ]
     },
     "execution_count": 191,
     "metadata": {},
     "output_type": "execute_result"
    }
   ],
   "source": [
    "df.group_name.value_counts()"
   ]
  },
  {
   "cell_type": "code",
   "execution_count": 192,
   "id": "a62fa47b",
   "metadata": {},
   "outputs": [],
   "source": [
    "#убираем данные по наблюдателям\n",
    "df=df.query(\"group_name=='Xerox'\")"
   ]
  },
  {
   "cell_type": "markdown",
   "id": "4b293354",
   "metadata": {},
   "source": [
    "Проверяем распределение данных по основным числовым показателям"
   ]
  },
  {
   "cell_type": "code",
   "execution_count": 193,
   "id": "c433d823",
   "metadata": {
    "scrolled": true
   },
   "outputs": [
    {
     "data": {
      "text/plain": [
       "count    119.000000\n",
       "mean      20.243697\n",
       "std       14.950748\n",
       "min        1.000000\n",
       "25%        6.000000\n",
       "50%       17.000000\n",
       "75%       38.000000\n",
       "max       40.000000\n",
       "Name: count_of_finished_lessons, dtype: float64"
      ]
     },
     "execution_count": 193,
     "metadata": {},
     "output_type": "execute_result"
    }
   ],
   "source": [
    "df.count_of_finished_lessons.describe()"
   ]
  },
  {
   "cell_type": "code",
   "execution_count": 385,
   "id": "14a4271c",
   "metadata": {},
   "outputs": [],
   "source": [
    "colors = ['darkcyan']"
   ]
  },
  {
   "cell_type": "code",
   "execution_count": 386,
   "id": "7a33cd8a",
   "metadata": {},
   "outputs": [
    {
     "data": {
      "text/plain": [
       "<AxesSubplot:>"
      ]
     },
     "execution_count": 386,
     "metadata": {},
     "output_type": "execute_result"
    },
    {
     "data": {
      "image/png": "[encoded data removed]",
      "text/plain": [
       "<Figure size 432x288 with 1 Axes>"
      ]
     },
     "metadata": {},
     "output_type": "display_data"
    }
   ],
   "source": [
    "df.count_of_finished_lessons.hist(color=colors)"
   ]
  },
  {
   "cell_type": "code",
   "execution_count": 387,
   "id": "e87b11ef",
   "metadata": {},
   "outputs": [
    {
     "data": {
      "text/plain": [
       "<AxesSubplot:>"
      ]
     },
     "execution_count": 387,
     "metadata": {},
     "output_type": "execute_result"
    },
    {
     "data": {
      "image/png": "[encoded data removed]",
      "text/plain": [
       "<Figure size 432x288 with 1 Axes>"
      ]
     },
     "metadata": {},
     "output_type": "display_data"
    }
   ],
   "source": [
    "#Логарифмирование\n",
    "df['count_of_finished_lessons_LOG']=np.log(df.count_of_finished_lessons)\n",
    "df.count_of_finished_lessons_LOG.hist(color=colors)"
   ]
  },
  {
   "cell_type": "code",
   "execution_count": 196,
   "id": "93c3e1dd",
   "metadata": {},
   "outputs": [
    {
     "data": {
      "text/plain": [
       "39.0    22\n",
       "38.0     9\n",
       "2.0      8\n",
       "3.0      7\n",
       "8.0      7\n",
       "1.0      6\n",
       "4.0      6\n",
       "25.0     5\n",
       "17.0     4\n",
       "40.0     4\n",
       "6.0      4\n",
       "7.0      4\n",
       "23.0     3\n",
       "15.0     3\n",
       "11.0     3\n",
       "37.0     2\n",
       "13.0     2\n",
       "36.0     2\n",
       "12.0     2\n",
       "33.0     2\n",
       "5.0      2\n",
       "21.0     2\n",
       "26.0     1\n",
       "20.0     1\n",
       "32.0     1\n",
       "18.0     1\n",
       "24.0     1\n",
       "31.0     1\n",
       "9.0      1\n",
       "19.0     1\n",
       "27.0     1\n",
       "14.0     1\n",
       "Name: count_of_finished_lessons, dtype: int64"
      ]
     },
     "execution_count": 196,
     "metadata": {},
     "output_type": "execute_result"
    }
   ],
   "source": [
    "df.count_of_finished_lessons.value_counts()"
   ]
  },
  {
   "cell_type": "code",
   "execution_count": 197,
   "id": "24d8c6f1",
   "metadata": {
    "scrolled": true
   },
   "outputs": [
    {
     "data": {
      "text/plain": [
       "count    120.000000\n",
       "mean       7.333568\n",
       "std        1.641949\n",
       "min        2.000000\n",
       "25%        6.433333\n",
       "50%        7.629121\n",
       "75%        8.544872\n",
       "max        9.900000\n",
       "Name: average_points_for_lesson, dtype: float64"
      ]
     },
     "execution_count": 197,
     "metadata": {},
     "output_type": "execute_result"
    }
   ],
   "source": [
    "df.average_points_for_lesson.describe()"
   ]
  },
  {
   "cell_type": "code",
   "execution_count": 388,
   "id": "1657bfc2",
   "metadata": {},
   "outputs": [
    {
     "data": {
      "text/plain": [
       "<AxesSubplot:>"
      ]
     },
     "execution_count": 388,
     "metadata": {},
     "output_type": "execute_result"
    },
    {
     "data": {
      "image/png": "[encoded data removed]",
      "text/plain": [
       "<Figure size 432x288 with 1 Axes>"
      ]
     },
     "metadata": {},
     "output_type": "display_data"
    }
   ],
   "source": [
    "#можем использовать для анализа этот показатель, ниже прологарифмируем или уберем несколько аномальных значений\n",
    "df.average_points_for_lesson.hist(color=colors)"
   ]
  },
  {
   "cell_type": "code",
   "execution_count": 389,
   "id": "d6b100c4",
   "metadata": {
    "scrolled": true
   },
   "outputs": [
    {
     "data": {
      "text/plain": [
       "<AxesSubplot:>"
      ]
     },
     "execution_count": 389,
     "metadata": {},
     "output_type": "execute_result"
    },
    {
     "data": {
      "image/png": "[encoded data removed]",
      "text/plain": [
       "<Figure size 432x288 with 1 Axes>"
      ]
     },
     "metadata": {},
     "output_type": "display_data"
    }
   ],
   "source": [
    "#Логарифмирование\n",
    "df['average_points_for_lesson_LOG']=np.log(df.average_points_for_lesson)\n",
    "df.average_points_for_lesson_LOG.hist(color=colors)"
   ]
  },
  {
   "cell_type": "code",
   "execution_count": 200,
   "id": "9895e6ca",
   "metadata": {},
   "outputs": [
    {
     "data": {
      "text/plain": [
       "count     120.000000\n",
       "mean      764.958333\n",
       "std       548.522268\n",
       "min         6.000000\n",
       "25%       251.500000\n",
       "50%       721.500000\n",
       "75%      1417.000000\n",
       "max      1468.000000\n",
       "Name: count_of_items, dtype: float64"
      ]
     },
     "execution_count": 200,
     "metadata": {},
     "output_type": "execute_result"
    }
   ],
   "source": [
    "df.count_of_items.describe()   "
   ]
  },
  {
   "cell_type": "code",
   "execution_count": 390,
   "id": "1ab3ca04",
   "metadata": {},
   "outputs": [
    {
     "data": {
      "text/plain": [
       "<AxesSubplot:>"
      ]
     },
     "execution_count": 390,
     "metadata": {},
     "output_type": "execute_result"
    },
    {
     "data": {
      "image/png": "[encoded data removed]",
      "text/plain": [
       "<Figure size 432x288 with 1 Axes>"
      ]
     },
     "metadata": {},
     "output_type": "display_data"
    }
   ],
   "source": [
    "df.count_of_items.hist(color=colors)  "
   ]
  },
  {
   "cell_type": "code",
   "execution_count": 391,
   "id": "d4890fd1",
   "metadata": {},
   "outputs": [
    {
     "data": {
      "text/plain": [
       "<AxesSubplot:>"
      ]
     },
     "execution_count": 391,
     "metadata": {},
     "output_type": "execute_result"
    },
    {
     "data": {
      "image/png": "[encoded data removed]",
      "text/plain": [
       "<Figure size 432x288 with 1 Axes>"
      ]
     },
     "metadata": {},
     "output_type": "display_data"
    }
   ],
   "source": [
    "#Логарифмирование\n",
    "df['count_of_items_LOG']=np.log(df.count_of_items)\n",
    "df.count_of_items_LOG.hist(color=colors)"
   ]
  },
  {
   "cell_type": "code",
   "execution_count": 203,
   "id": "e154066c",
   "metadata": {
    "scrolled": true
   },
   "outputs": [
    {
     "data": {
      "text/plain": [
       "count    120.000000\n",
       "mean      20.783333\n",
       "std       14.909916\n",
       "min        1.000000\n",
       "25%        6.750000\n",
       "50%       18.500000\n",
       "75%       39.000000\n",
       "max       40.000000\n",
       "Name: count_of_lessons, dtype: float64"
      ]
     },
     "execution_count": 203,
     "metadata": {},
     "output_type": "execute_result"
    }
   ],
   "source": [
    "df.count_of_lessons.describe()"
   ]
  },
  {
   "cell_type": "code",
   "execution_count": 392,
   "id": "00378aee",
   "metadata": {},
   "outputs": [
    {
     "data": {
      "text/plain": [
       "<AxesSubplot:>"
      ]
     },
     "execution_count": 392,
     "metadata": {},
     "output_type": "execute_result"
    },
    {
     "data": {
      "image/png": "[encoded data removed]",
      "text/plain": [
       "<Figure size 432x288 with 1 Axes>"
      ]
     },
     "metadata": {},
     "output_type": "display_data"
    }
   ],
   "source": [
    "df.count_of_lessons.hist(color=colors)"
   ]
  },
  {
   "cell_type": "code",
   "execution_count": 393,
   "id": "e93b9fbb",
   "metadata": {},
   "outputs": [
    {
     "data": {
      "text/plain": [
       "<AxesSubplot:>"
      ]
     },
     "execution_count": 393,
     "metadata": {},
     "output_type": "execute_result"
    },
    {
     "data": {
      "image/png": "[encoded data removed]",
      "text/plain": [
       "<Figure size 432x288 with 1 Axes>"
      ]
     },
     "metadata": {},
     "output_type": "display_data"
    }
   ],
   "source": [
    "#Логарифмирование\n",
    "df['count_of_lessons_LOG']=np.log(df.count_of_lessons)\n",
    "df.count_of_lessons_LOG.hist(color=colors)"
   ]
  },
  {
   "cell_type": "code",
   "execution_count": 394,
   "id": "f6e6e6de",
   "metadata": {},
   "outputs": [
    {
     "data": {
      "text/plain": [
       "<AxesSubplot:>"
      ]
     },
     "execution_count": 394,
     "metadata": {},
     "output_type": "execute_result"
    },
    {
     "data": {
      "image/png": "[encoded data removed]",
      "text/plain": [
       "<Figure size 432x288 with 1 Axes>"
      ]
     },
     "metadata": {},
     "output_type": "display_data"
    }
   ],
   "source": [
    "#Логарифмирование\n",
    "df['count_of_lessons_LOG']=np.log(df.count_of_lessons)\n",
    "df.count_of_lessons_LOG.hist(color=colors)"
   ]
  },
  {
   "cell_type": "code",
   "execution_count": 207,
   "id": "61f77e4c",
   "metadata": {},
   "outputs": [
    {
     "data": {
      "text/plain": [
       "count                            120\n",
       "unique                           120\n",
       "top       1899-12-29 00:00:08.060000\n",
       "freq                               1\n",
       "first     1899-12-29 00:00:04.710000\n",
       "last      1899-12-29 00:00:50.493000\n",
       "Name: average_timespent_for_item, dtype: object"
      ]
     },
     "execution_count": 207,
     "metadata": {},
     "output_type": "execute_result"
    }
   ],
   "source": [
    "df.average_timespent_for_item.describe()\n",
    "#позже переведем временные показатели в минуты"
   ]
  },
  {
   "cell_type": "code",
   "execution_count": 208,
   "id": "6110560e",
   "metadata": {
    "scrolled": true
   },
   "outputs": [
    {
     "data": {
      "text/plain": [
       "count    120.000000\n",
       "mean     169.033333\n",
       "std      135.628009\n",
       "min        2.000000\n",
       "25%       41.750000\n",
       "50%      143.000000\n",
       "75%      321.250000\n",
       "max      396.000000\n",
       "Name: total_sum_of_points, dtype: float64"
      ]
     },
     "execution_count": 208,
     "metadata": {},
     "output_type": "execute_result"
    }
   ],
   "source": [
    "df.total_sum_of_points.describe()   "
   ]
  },
  {
   "cell_type": "code",
   "execution_count": 395,
   "id": "b91626b7",
   "metadata": {},
   "outputs": [
    {
     "data": {
      "text/plain": [
       "<AxesSubplot:>"
      ]
     },
     "execution_count": 395,
     "metadata": {},
     "output_type": "execute_result"
    },
    {
     "data": {
      "image/png": "[encoded data removed]",
      "text/plain": [
       "<Figure size 432x288 with 1 Axes>"
      ]
     },
     "metadata": {},
     "output_type": "display_data"
    }
   ],
   "source": [
    "df.total_sum_of_points.hist(color=colors)   "
   ]
  },
  {
   "cell_type": "code",
   "execution_count": 396,
   "id": "87a066ee",
   "metadata": {},
   "outputs": [
    {
     "data": {
      "text/plain": [
       "<AxesSubplot:>"
      ]
     },
     "execution_count": 396,
     "metadata": {},
     "output_type": "execute_result"
    },
    {
     "data": {
      "image/png": "[encoded data removed]",
      "text/plain": [
       "<Figure size 432x288 with 1 Axes>"
      ]
     },
     "metadata": {},
     "output_type": "display_data"
    }
   ],
   "source": [
    "#Логарифмирование\n",
    "df['total_sum_of_points_LOG']=np.log(df.total_sum_of_points)\n",
    "df.total_sum_of_points_LOG.hist(color=colors)"
   ]
  },
  {
   "cell_type": "code",
   "execution_count": 211,
   "id": "8c87fa9c",
   "metadata": {
    "scrolled": true
   },
   "outputs": [
    {
     "data": {
      "text/plain": [
       "count    120.000000\n",
       "mean       7.333568\n",
       "std        1.641949\n",
       "min        2.000000\n",
       "25%        6.433333\n",
       "50%        7.629121\n",
       "75%        8.544872\n",
       "max        9.900000\n",
       "Name: average_points_for_lesson, dtype: float64"
      ]
     },
     "execution_count": 211,
     "metadata": {},
     "output_type": "execute_result"
    }
   ],
   "source": [
    "df.average_points_for_lesson.describe()"
   ]
  },
  {
   "cell_type": "code",
   "execution_count": 397,
   "id": "92d55e6b",
   "metadata": {},
   "outputs": [
    {
     "data": {
      "text/plain": [
       "<AxesSubplot:>"
      ]
     },
     "execution_count": 397,
     "metadata": {},
     "output_type": "execute_result"
    },
    {
     "data": {
      "image/png": "[encoded data removed]",
      "text/plain": [
       "<Figure size 432x288 with 1 Axes>"
      ]
     },
     "metadata": {},
     "output_type": "display_data"
    }
   ],
   "source": [
    "df.average_points_for_lesson.hist(color=colors)"
   ]
  },
  {
   "cell_type": "code",
   "execution_count": 398,
   "id": "e0de7dfd",
   "metadata": {},
   "outputs": [
    {
     "data": {
      "text/plain": [
       "<AxesSubplot:>"
      ]
     },
     "execution_count": 398,
     "metadata": {},
     "output_type": "execute_result"
    },
    {
     "data": {
      "image/png": "[encoded data removed]",
      "text/plain": [
       "<Figure size 432x288 with 1 Axes>"
      ]
     },
     "metadata": {},
     "output_type": "display_data"
    }
   ],
   "source": [
    "#Логарифмирование\n",
    "df['average_points_for_lesson_LOG']=np.log(df.average_points_for_lesson)\n",
    "df.average_points_for_lesson_LOG.hist(color=colors)"
   ]
  },
  {
   "cell_type": "code",
   "execution_count": 214,
   "id": "eae9b850",
   "metadata": {
    "scrolled": true
   },
   "outputs": [
    {
     "data": {
      "text/plain": [
       "count    120.000000\n",
       "mean       1.658508\n",
       "std        0.271427\n",
       "min        1.000000\n",
       "25%        1.561303\n",
       "50%        1.698263\n",
       "75%        1.754276\n",
       "max        4.000000\n",
       "Name: average_points_for_item, dtype: float64"
      ]
     },
     "execution_count": 214,
     "metadata": {},
     "output_type": "execute_result"
    }
   ],
   "source": [
    "df.average_points_for_item.describe()"
   ]
  },
  {
   "cell_type": "code",
   "execution_count": 399,
   "id": "a159f1e8",
   "metadata": {},
   "outputs": [
    {
     "data": {
      "text/plain": [
       "<AxesSubplot:>"
      ]
     },
     "execution_count": 399,
     "metadata": {},
     "output_type": "execute_result"
    },
    {
     "data": {
      "image/png": "[encoded data removed]",
      "text/plain": [
       "<Figure size 432x288 with 1 Axes>"
      ]
     },
     "metadata": {},
     "output_type": "display_data"
    }
   ],
   "source": [
    "df.average_points_for_item.hist(color=colors)"
   ]
  },
  {
   "cell_type": "code",
   "execution_count": 216,
   "id": "81d7fac3",
   "metadata": {},
   "outputs": [],
   "source": [
    "#Переводим временные данные в минуты (с десятичными) для возможности сравнения\n",
    "df['total_time_spent_in_apps_seconds']=df.total_time_spent_in_apps.dt.second+df.total_time_spent_in_apps.dt.minute*60+df.total_time_spent_in_apps.dt.hour*60*60\n",
    "df['total_time_spent_in_apps_minutes']=df['total_time_spent_in_apps_seconds']/60\n",
    "df['average_timespent_for_item_seconds']=df.average_timespent_for_item.dt.second+df.average_timespent_for_item.dt.minute*60+df.average_timespent_for_item.dt.hour*60*60\n",
    "df['average_timespent_for_item_minutes']=df['average_timespent_for_item_seconds']/60\n",
    "df['average_timespent_for_lesson_seconds']=df.average_timespent_for_lesson.dt.second+df.average_timespent_for_lesson.dt.minute*60+df.average_timespent_for_lesson.dt.hour*60*60\n",
    "df['average_timespent_for_lesson_minutes']=df['average_timespent_for_lesson_seconds']/60"
   ]
  },
  {
   "cell_type": "code",
   "execution_count": 217,
   "id": "639992e6",
   "metadata": {},
   "outputs": [
    {
     "data": {
      "text/plain": [
       "count     120.000000\n",
       "mean      196.108056\n",
       "std       186.927295\n",
       "min         0.850000\n",
       "25%        51.004167\n",
       "50%       149.200000\n",
       "75%       292.425000\n",
       "max      1204.283333\n",
       "Name: total_time_spent_in_apps_minutes, dtype: float64"
      ]
     },
     "execution_count": 217,
     "metadata": {},
     "output_type": "execute_result"
    }
   ],
   "source": [
    "df['total_time_spent_in_apps_minutes'].describe()"
   ]
  },
  {
   "cell_type": "code",
   "execution_count": 400,
   "id": "9355f6fd",
   "metadata": {
    "scrolled": true
   },
   "outputs": [
    {
     "data": {
      "text/plain": [
       "<AxesSubplot:>"
      ]
     },
     "execution_count": 400,
     "metadata": {},
     "output_type": "execute_result"
    },
    {
     "data": {
      "image/png": "[encoded data removed]",
      "text/plain": [
       "<Figure size 432x288 with 1 Axes>"
      ]
     },
     "metadata": {},
     "output_type": "display_data"
    }
   ],
   "source": [
    "df.total_time_spent_in_apps_minutes.hist(color=colors)"
   ]
  },
  {
   "cell_type": "code",
   "execution_count": 401,
   "id": "03d06b79",
   "metadata": {},
   "outputs": [
    {
     "data": {
      "text/plain": [
       "<AxesSubplot:>"
      ]
     },
     "execution_count": 401,
     "metadata": {},
     "output_type": "execute_result"
    },
    {
     "data": {
      "image/png": "[encoded data removed]",
      "text/plain": [
       "<Figure size 432x288 with 1 Axes>"
      ]
     },
     "metadata": {},
     "output_type": "display_data"
    }
   ],
   "source": [
    "#Логарифмирование\n",
    "df['total_time_spent_in_apps_minutes_LOG']=np.log(df.total_time_spent_in_apps_minutes)\n",
    "df.total_time_spent_in_apps_minutes_LOG.hist(color=colors)"
   ]
  },
  {
   "cell_type": "code",
   "execution_count": 220,
   "id": "4f8ec6d1",
   "metadata": {},
   "outputs": [
    {
     "data": {
      "text/plain": [
       "count    120.000000\n",
       "mean       0.239444\n",
       "std        0.107491\n",
       "min        0.066667\n",
       "25%        0.166667\n",
       "50%        0.233333\n",
       "75%        0.283333\n",
       "max        0.833333\n",
       "Name: average_timespent_for_item_minutes, dtype: float64"
      ]
     },
     "execution_count": 220,
     "metadata": {},
     "output_type": "execute_result"
    }
   ],
   "source": [
    "df.average_timespent_for_item_minutes.describe()"
   ]
  },
  {
   "cell_type": "code",
   "execution_count": 402,
   "id": "7d11a452",
   "metadata": {},
   "outputs": [
    {
     "data": {
      "text/plain": [
       "<AxesSubplot:>"
      ]
     },
     "execution_count": 402,
     "metadata": {},
     "output_type": "execute_result"
    },
    {
     "data": {
      "image/png": "[encoded data removed]",
      "text/plain": [
       "<Figure size 432x288 with 1 Axes>"
      ]
     },
     "metadata": {},
     "output_type": "display_data"
    }
   ],
   "source": [
    "df.average_timespent_for_item_minutes.hist(color=colors)"
   ]
  },
  {
   "cell_type": "code",
   "execution_count": 403,
   "id": "060d2737",
   "metadata": {},
   "outputs": [
    {
     "data": {
      "text/plain": [
       "<AxesSubplot:>"
      ]
     },
     "execution_count": 403,
     "metadata": {},
     "output_type": "execute_result"
    },
    {
     "data": {
      "image/png": "[encoded data removed]",
      "text/plain": [
       "<Figure size 432x288 with 1 Axes>"
      ]
     },
     "metadata": {},
     "output_type": "display_data"
    }
   ],
   "source": [
    "#Логарифмирование\n",
    "df['average_timespent_for_item_minutes_LOG']=np.log(df.average_timespent_for_item_minutes)\n",
    "df.average_timespent_for_item_minutes_LOG.hist(color=colors)"
   ]
  },
  {
   "cell_type": "code",
   "execution_count": 223,
   "id": "ec706e39",
   "metadata": {},
   "outputs": [
    {
     "data": {
      "text/plain": [
       "count    120.000000\n",
       "mean       9.945278\n",
       "std        4.766064\n",
       "min        0.850000\n",
       "25%        6.733333\n",
       "50%        9.416667\n",
       "75%       12.187500\n",
       "max       34.166667\n",
       "Name: average_timespent_for_lesson_minutes, dtype: float64"
      ]
     },
     "execution_count": 223,
     "metadata": {},
     "output_type": "execute_result"
    }
   ],
   "source": [
    "df.average_timespent_for_lesson_minutes.describe()"
   ]
  },
  {
   "cell_type": "code",
   "execution_count": 404,
   "id": "4e93e46b",
   "metadata": {},
   "outputs": [
    {
     "data": {
      "text/plain": [
       "<AxesSubplot:>"
      ]
     },
     "execution_count": 404,
     "metadata": {},
     "output_type": "execute_result"
    },
    {
     "data": {
      "image/png": "[encoded data removed]",
      "text/plain": [
       "<Figure size 432x288 with 1 Axes>"
      ]
     },
     "metadata": {},
     "output_type": "display_data"
    }
   ],
   "source": [
    "df.average_timespent_for_lesson_minutes.hist(color=colors)"
   ]
  },
  {
   "cell_type": "code",
   "execution_count": 405,
   "id": "86dfde55",
   "metadata": {
    "scrolled": false
   },
   "outputs": [
    {
     "data": {
      "text/plain": [
       "<AxesSubplot:>"
      ]
     },
     "execution_count": 405,
     "metadata": {},
     "output_type": "execute_result"
    },
    {
     "data": {
      "image/png": "[encoded data removed]",
      "text/plain": [
       "<Figure size 432x288 with 1 Axes>"
      ]
     },
     "metadata": {},
     "output_type": "display_data"
    }
   ],
   "source": [
    "#Логарифмирование\n",
    "df['average_timespent_for_lesson_minutes_LOG']=np.log(df.average_timespent_for_lesson_minutes)\n",
    "df.average_timespent_for_lesson_minutes_LOG.hist(color=colors)"
   ]
  },
  {
   "cell_type": "markdown",
   "id": "e7368db1",
   "metadata": {},
   "source": [
    "# КОРРЕЛЯЦИОННЫЙ АНАЛИЗ"
   ]
  },
  {
   "cell_type": "markdown",
   "id": "c02050b0",
   "metadata": {},
   "source": [
    "Попробуем проаналировать корреляцию между показателями:\n",
    "\n",
    "    average_points_for_lesson - среднее количество баллов за урок\n",
    "    average_timespent_for_lesson_minutes - среднее количество проведенного времени за уроком,\n",
    "  \n",
    "где среднее количество баллов за урок будет зависимой переменной."
   ]
  },
  {
   "cell_type": "code",
   "execution_count": 226,
   "id": "1845510b",
   "metadata": {},
   "outputs": [],
   "source": [
    "x = abs(df.average_timespent_for_lesson_minutes_LOG)\n",
    "y = df.average_points_for_lesson"
   ]
  },
  {
   "cell_type": "code",
   "execution_count": 227,
   "id": "c3227475",
   "metadata": {},
   "outputs": [
    {
     "data": {
      "text/plain": [
       "count    120.000000\n",
       "mean       2.186240\n",
       "std        0.499691\n",
       "min        0.162519\n",
       "25%        1.907033\n",
       "50%        2.242481\n",
       "75%        2.500411\n",
       "max        3.531251\n",
       "Name: average_timespent_for_lesson_minutes_LOG, dtype: float64"
      ]
     },
     "execution_count": 227,
     "metadata": {},
     "output_type": "execute_result"
    }
   ],
   "source": [
    "x.describe()"
   ]
  },
  {
   "cell_type": "code",
   "execution_count": 228,
   "id": "cd5d9db6",
   "metadata": {},
   "outputs": [
    {
     "data": {
      "text/plain": [
       "count    120.000000\n",
       "mean       7.333568\n",
       "std        1.641949\n",
       "min        2.000000\n",
       "25%        6.433333\n",
       "50%        7.629121\n",
       "75%        8.544872\n",
       "max        9.900000\n",
       "Name: average_points_for_lesson, dtype: float64"
      ]
     },
     "execution_count": 228,
     "metadata": {},
     "output_type": "execute_result"
    }
   ],
   "source": [
    "y.describe()"
   ]
  },
  {
   "cell_type": "code",
   "execution_count": 407,
   "id": "22ce82b4",
   "metadata": {},
   "outputs": [
    {
     "data": {
      "text/plain": [
       "<AxesSubplot:>"
      ]
     },
     "execution_count": 407,
     "metadata": {},
     "output_type": "execute_result"
    },
    {
     "data": {
      "image/png": "[encoded data removed]",
      "text/plain": [
       "<Figure size 432x288 with 1 Axes>"
      ]
     },
     "metadata": {},
     "output_type": "display_data"
    }
   ],
   "source": [
    "y.hist(color=colors)"
   ]
  },
  {
   "cell_type": "code",
   "execution_count": 408,
   "id": "c2e9a0e5",
   "metadata": {},
   "outputs": [],
   "source": [
    "#избавление от NAN\n",
    "x=x[~np.isnan (x)]\n",
    "y=y[~np.isnan (y)]"
   ]
  },
  {
   "cell_type": "code",
   "execution_count": 409,
   "id": "dd30cc4e",
   "metadata": {},
   "outputs": [
    {
     "data": {
      "text/plain": [
       "<AxesSubplot:>"
      ]
     },
     "execution_count": 409,
     "metadata": {},
     "output_type": "execute_result"
    },
    {
     "data": {
      "image/png": "[encoded data removed]",
      "text/plain": [
       "<Figure size 432x288 with 1 Axes>"
      ]
     },
     "metadata": {},
     "output_type": "display_data"
    }
   ],
   "source": [
    "y.hist(color=colors)"
   ]
  },
  {
   "cell_type": "code",
   "execution_count": 234,
   "id": "b7be7f94",
   "metadata": {},
   "outputs": [
    {
     "data": {
      "text/plain": [
       "array([[1.        , 0.33892904],\n",
       "       [0.33892904, 1.        ]])"
      ]
     },
     "execution_count": 234,
     "metadata": {},
     "output_type": "execute_result"
    }
   ],
   "source": [
    "np.corrcoef(x, y)"
   ]
  },
  {
   "cell_type": "code",
   "execution_count": 235,
   "id": "7d1d51d0",
   "metadata": {},
   "outputs": [
    {
     "data": {
      "text/plain": [
       "(0.33892904295579573, 0.0001527037213866322)"
      ]
     },
     "execution_count": 235,
     "metadata": {},
     "output_type": "execute_result"
    }
   ],
   "source": [
    "#коэффициент корреляции с помощью scipy\n",
    "st.pearsonr(x, y)"
   ]
  },
  {
   "cell_type": "code",
   "execution_count": 236,
   "id": "045b930c",
   "metadata": {},
   "outputs": [
    {
     "data": {
      "text/plain": [
       "SpearmanrResult(correlation=0.22211456523991127, pvalue=0.014760041575378835)"
      ]
     },
     "execution_count": 236,
     "metadata": {},
     "output_type": "execute_result"
    }
   ],
   "source": [
    "#коэффициент корреляции по Спирману с помощью использования рангов\n",
    "st.spearmanr(x, y)"
   ]
  },
  {
   "cell_type": "code",
   "execution_count": 237,
   "id": "47f8de68",
   "metadata": {},
   "outputs": [
    {
     "data": {
      "text/plain": [
       "KendalltauResult(correlation=0.1486165253269407, pvalue=0.01638936203405497)"
      ]
     },
     "execution_count": 237,
     "metadata": {},
     "output_type": "execute_result"
    }
   ],
   "source": [
    "#коэффициент корреляции по Кендаллу - лучше всего в нашем случае, поскольку второй показатель не имеет нормального распределения\n",
    "st.kendalltau(x, y)"
   ]
  },
  {
   "cell_type": "markdown",
   "id": "247b7545",
   "metadata": {},
   "source": [
    "В обоих случая plavue <0.05, однако теснота связи невысокая, коэффициент корреляции меньше - 0,5"
   ]
  },
  {
   "cell_type": "code",
   "execution_count": 238,
   "id": "1b3b57c3",
   "metadata": {},
   "outputs": [
    {
     "name": "stdout",
     "output_type": "stream",
     "text": [
      "                                OLS Regression Results                               \n",
      "=====================================================================================\n",
      "Dep. Variable:     average_points_for_lesson   R-squared:                       0.115\n",
      "Model:                                   OLS   Adj. R-squared:                  0.107\n",
      "Method:                        Least Squares   F-statistic:                     15.31\n",
      "Date:                       Mon, 29 May 2023   Prob (F-statistic):           0.000153\n",
      "Time:                               22:48:16   Log-Likelihood:                -221.96\n",
      "No. Observations:                        120   AIC:                             447.9\n",
      "Df Residuals:                            118   BIC:                             453.5\n",
      "Df Model:                                  1                                         \n",
      "Covariance Type:                   nonrobust                                         \n",
      "============================================================================================================\n",
      "                                               coef    std err          t      P>|t|      [0.025      0.975]\n",
      "------------------------------------------------------------------------------------------------------------\n",
      "const                                        4.8988      0.638      7.677      0.000       3.635       6.162\n",
      "average_timespent_for_lesson_minutes_LOG     1.1137      0.285      3.913      0.000       0.550       1.677\n",
      "==============================================================================\n",
      "Omnibus:                        9.894   Durbin-Watson:                   2.223\n",
      "Prob(Omnibus):                  0.007   Jarque-Bera (JB):               10.767\n",
      "Skew:                          -0.731   Prob(JB):                      0.00459\n",
      "Kurtosis:                       2.864   Cond. No.                         12.0\n",
      "==============================================================================\n",
      "\n",
      "Notes:\n",
      "[1] Standard Errors assume that the covariance matrix of the errors is correctly specified.\n"
     ]
    }
   ],
   "source": [
    "x = sm.add_constant(x)  # добавить константу, чтобы был свободный член\n",
    "model = sm.OLS(y, x)  # говорим модели, что у нас ЗП, а что НП\n",
    "results = model.fit()  # строим регрессионную прямую\n",
    "print(results.summary())  # смотрим результат"
   ]
  },
  {
   "cell_type": "markdown",
   "id": "f71fc4b8",
   "metadata": {},
   "source": [
    "Попытка построить регрессионую модель дала такие же результаты, тестота связи очень слабая."
   ]
  },
  {
   "cell_type": "markdown",
   "id": "e775358d",
   "metadata": {},
   "source": [
    "Попробуем проаналировать корреляцию между показателями:\n",
    "\n",
    "    total_sum_of_points - общее количество баллов набранных одним пользователем\n",
    "    total_time_spent_in_apps_minutes_LOG - общее количество проведенного времени в приложении (логарифмированная переменная, там наблюдаем распределение более близкое к нормальному)\n",
    "  \n",
    "где общее количество баллов набранных одним пользователем за все курсы будет зависимой переменной\n"
   ]
  },
  {
   "cell_type": "code",
   "execution_count": 239,
   "id": "e7d5bd27",
   "metadata": {},
   "outputs": [],
   "source": [
    "x_2 = abs(df.average_timespent_for_lesson_minutes_LOG)\n",
    "y_2 = df.average_points_for_lesson"
   ]
  },
  {
   "cell_type": "code",
   "execution_count": 240,
   "id": "4994d9ee",
   "metadata": {},
   "outputs": [],
   "source": [
    "#избавление от NAN\n",
    "x_2=x_2[~np.isnan (x_2)]\n",
    "y_2=y_2[~np.isnan (y_2)]\n",
    "#new_data = data[~np.isnan (data)]"
   ]
  },
  {
   "cell_type": "code",
   "execution_count": 241,
   "id": "cc261950",
   "metadata": {},
   "outputs": [
    {
     "data": {
      "text/plain": [
       "count    120.000000\n",
       "mean       2.186240\n",
       "std        0.499691\n",
       "min        0.162519\n",
       "25%        1.907033\n",
       "50%        2.242481\n",
       "75%        2.500411\n",
       "max        3.531251\n",
       "Name: average_timespent_for_lesson_minutes_LOG, dtype: float64"
      ]
     },
     "execution_count": 241,
     "metadata": {},
     "output_type": "execute_result"
    }
   ],
   "source": [
    "x_2.describe()"
   ]
  },
  {
   "cell_type": "code",
   "execution_count": 242,
   "id": "aaffb7d1",
   "metadata": {},
   "outputs": [
    {
     "data": {
      "text/plain": [
       "count    120.000000\n",
       "mean       7.333568\n",
       "std        1.641949\n",
       "min        2.000000\n",
       "25%        6.433333\n",
       "50%        7.629121\n",
       "75%        8.544872\n",
       "max        9.900000\n",
       "Name: average_points_for_lesson, dtype: float64"
      ]
     },
     "execution_count": 242,
     "metadata": {},
     "output_type": "execute_result"
    }
   ],
   "source": [
    "y_2.describe()"
   ]
  },
  {
   "cell_type": "code",
   "execution_count": 410,
   "id": "970297af",
   "metadata": {},
   "outputs": [
    {
     "data": {
      "text/plain": [
       "<AxesSubplot:>"
      ]
     },
     "execution_count": 410,
     "metadata": {},
     "output_type": "execute_result"
    },
    {
     "data": {
      "image/png": "[encoded data removed]",
      "text/plain": [
       "<Figure size 432x288 with 1 Axes>"
      ]
     },
     "metadata": {},
     "output_type": "display_data"
    }
   ],
   "source": [
    "y_2.hist(color=colors)"
   ]
  },
  {
   "cell_type": "code",
   "execution_count": 245,
   "id": "646f2eb2",
   "metadata": {},
   "outputs": [
    {
     "data": {
      "text/plain": [
       "array([[1.        , 0.33892904],\n",
       "       [0.33892904, 1.        ]])"
      ]
     },
     "execution_count": 245,
     "metadata": {},
     "output_type": "execute_result"
    }
   ],
   "source": [
    "np.corrcoef(x_2, y_2)"
   ]
  },
  {
   "cell_type": "code",
   "execution_count": 246,
   "id": "314d2a95",
   "metadata": {},
   "outputs": [
    {
     "data": {
      "text/plain": [
       "(0.33892904295579573, 0.0001527037213866322)"
      ]
     },
     "execution_count": 246,
     "metadata": {},
     "output_type": "execute_result"
    }
   ],
   "source": [
    "#коэффициент корреляции с помощью scipy\n",
    "st.pearsonr(x_2, y_2)"
   ]
  },
  {
   "cell_type": "code",
   "execution_count": 247,
   "id": "81064e6d",
   "metadata": {},
   "outputs": [
    {
     "data": {
      "text/plain": [
       "SpearmanrResult(correlation=0.22211456523991127, pvalue=0.014760041575378835)"
      ]
     },
     "execution_count": 247,
     "metadata": {},
     "output_type": "execute_result"
    }
   ],
   "source": [
    "#коэффициент корреляции по Спирману с помощью использования рангов\n",
    "st.spearmanr(x_2, y_2)"
   ]
  },
  {
   "cell_type": "code",
   "execution_count": 248,
   "id": "2820f2ba",
   "metadata": {},
   "outputs": [
    {
     "data": {
      "text/plain": [
       "KendalltauResult(correlation=0.1486165253269407, pvalue=0.01638936203405497)"
      ]
     },
     "execution_count": 248,
     "metadata": {},
     "output_type": "execute_result"
    }
   ],
   "source": [
    "#коэффициент корреляции по Кендаллу - лучше всего в нашем случае, поскольку второй показатель не имеет нормального распределения\n",
    "st.kendalltau(x_2, y_2)"
   ]
  },
  {
   "cell_type": "code",
   "execution_count": 249,
   "id": "0486eb00",
   "metadata": {},
   "outputs": [
    {
     "name": "stdout",
     "output_type": "stream",
     "text": [
      "                                OLS Regression Results                               \n",
      "=====================================================================================\n",
      "Dep. Variable:     average_points_for_lesson   R-squared:                       0.115\n",
      "Model:                                   OLS   Adj. R-squared:                  0.107\n",
      "Method:                        Least Squares   F-statistic:                     15.31\n",
      "Date:                       Mon, 29 May 2023   Prob (F-statistic):           0.000153\n",
      "Time:                               22:48:19   Log-Likelihood:                -221.96\n",
      "No. Observations:                        120   AIC:                             447.9\n",
      "Df Residuals:                            118   BIC:                             453.5\n",
      "Df Model:                                  1                                         \n",
      "Covariance Type:                   nonrobust                                         \n",
      "============================================================================================================\n",
      "                                               coef    std err          t      P>|t|      [0.025      0.975]\n",
      "------------------------------------------------------------------------------------------------------------\n",
      "const                                        4.8988      0.638      7.677      0.000       3.635       6.162\n",
      "average_timespent_for_lesson_minutes_LOG     1.1137      0.285      3.913      0.000       0.550       1.677\n",
      "==============================================================================\n",
      "Omnibus:                        9.894   Durbin-Watson:                   2.223\n",
      "Prob(Omnibus):                  0.007   Jarque-Bera (JB):               10.767\n",
      "Skew:                          -0.731   Prob(JB):                      0.00459\n",
      "Kurtosis:                       2.864   Cond. No.                         12.0\n",
      "==============================================================================\n",
      "\n",
      "Notes:\n",
      "[1] Standard Errors assume that the covariance matrix of the errors is correctly specified.\n"
     ]
    }
   ],
   "source": [
    "x_2 = sm.add_constant(x_2)  # добавить константу, чтобы был свободный член\n",
    "model = sm.OLS(y_2, x_2)  # говорим модели, что у нас ЗП, а что НП\n",
    "results = model.fit()  # строим регрессионную прямую\n",
    "print(results.summary())  # смотрим результат"
   ]
  },
  {
   "cell_type": "markdown",
   "id": "b69cc243",
   "metadata": {},
   "source": [
    "Результаты схожи с предыдущими. Теснота связи между переменными очень слабая."
   ]
  },
  {
   "cell_type": "markdown",
   "id": "b31ad9bb",
   "metadata": {},
   "source": [
    "Попробуем проаналировать корреляцию между показателями:\n",
    "\n",
    "    count_of_finished_lessons - количество пройденных до конца уроков\n",
    "    average_timespent_for_lesson_minutes - среднее количество проведенного времени за уроком,\n",
    "  \n",
    "где среднее количество баллов за урок будет зависимой переменной."
   ]
  },
  {
   "cell_type": "code",
   "execution_count": 250,
   "id": "3f11b167",
   "metadata": {},
   "outputs": [],
   "source": [
    "x_3 = abs(df.average_timespent_for_lesson_minutes_LOG)\n",
    "y_3 = df.count_of_finished_lessons"
   ]
  },
  {
   "cell_type": "code",
   "execution_count": 251,
   "id": "2557905c",
   "metadata": {},
   "outputs": [
    {
     "data": {
      "text/plain": [
       "count    120.000000\n",
       "mean       9.945278\n",
       "std        4.766064\n",
       "min        0.850000\n",
       "25%        6.733333\n",
       "50%        9.416667\n",
       "75%       12.187500\n",
       "max       34.166667\n",
       "Name: average_timespent_for_lesson_minutes, dtype: float64"
      ]
     },
     "execution_count": 251,
     "metadata": {},
     "output_type": "execute_result"
    }
   ],
   "source": [
    "df.average_timespent_for_lesson_minutes.describe()"
   ]
  },
  {
   "cell_type": "code",
   "execution_count": 252,
   "id": "8cce3c92",
   "metadata": {},
   "outputs": [
    {
     "data": {
      "text/plain": [
       "count    119.000000\n",
       "mean      20.243697\n",
       "std       14.950748\n",
       "min        1.000000\n",
       "25%        6.000000\n",
       "50%       17.000000\n",
       "75%       38.000000\n",
       "max       40.000000\n",
       "Name: count_of_finished_lessons, dtype: float64"
      ]
     },
     "execution_count": 252,
     "metadata": {},
     "output_type": "execute_result"
    }
   ],
   "source": [
    "df.count_of_finished_lessons.describe()"
   ]
  },
  {
   "cell_type": "code",
   "execution_count": 253,
   "id": "f87e8a33",
   "metadata": {},
   "outputs": [],
   "source": [
    "#избавление от NAN\n",
    "x_3=x_3[~np.isnan (x_3)]\n",
    "y_3=y_3[~np.isnan (y_3)]"
   ]
  },
  {
   "cell_type": "code",
   "execution_count": 254,
   "id": "b0ab1eb7",
   "metadata": {},
   "outputs": [
    {
     "data": {
      "text/plain": [
       "count    120.000000\n",
       "mean       2.186240\n",
       "std        0.499691\n",
       "min        0.162519\n",
       "25%        1.907033\n",
       "50%        2.242481\n",
       "75%        2.500411\n",
       "max        3.531251\n",
       "Name: average_timespent_for_lesson_minutes_LOG, dtype: float64"
      ]
     },
     "execution_count": 254,
     "metadata": {},
     "output_type": "execute_result"
    }
   ],
   "source": [
    "x_3.describe()"
   ]
  },
  {
   "cell_type": "code",
   "execution_count": 255,
   "id": "b35e0f81",
   "metadata": {},
   "outputs": [
    {
     "data": {
      "text/plain": [
       "count    119.000000\n",
       "mean      20.243697\n",
       "std       14.950748\n",
       "min        1.000000\n",
       "25%        6.000000\n",
       "50%       17.000000\n",
       "75%       38.000000\n",
       "max       40.000000\n",
       "Name: count_of_finished_lessons, dtype: float64"
      ]
     },
     "execution_count": 255,
     "metadata": {},
     "output_type": "execute_result"
    }
   ],
   "source": [
    "y_3.describe()"
   ]
  },
  {
   "cell_type": "code",
   "execution_count": 411,
   "id": "d037313c",
   "metadata": {
    "scrolled": true
   },
   "outputs": [
    {
     "data": {
      "text/plain": [
       "<AxesSubplot:>"
      ]
     },
     "execution_count": 411,
     "metadata": {},
     "output_type": "execute_result"
    },
    {
     "data": {
      "image/png": "[encoded data removed]",
      "text/plain": [
       "<Figure size 432x288 with 1 Axes>"
      ]
     },
     "metadata": {},
     "output_type": "display_data"
    }
   ],
   "source": [
    "y_3.hist(color=colors)"
   ]
  },
  {
   "cell_type": "markdown",
   "id": "ab94db31",
   "metadata": {},
   "source": [
    "Количество данных не совпало по этим двум показателям"
   ]
  },
  {
   "cell_type": "code",
   "execution_count": 257,
   "id": "758e840c",
   "metadata": {},
   "outputs": [
    {
     "data": {
      "text/plain": [
       "count    120.000000\n",
       "mean       2.186240\n",
       "std        0.499691\n",
       "min        0.162519\n",
       "25%        1.907033\n",
       "50%        2.242481\n",
       "75%        2.500411\n",
       "max        3.531251\n",
       "Name: average_timespent_for_lesson_minutes_LOG, dtype: float64"
      ]
     },
     "execution_count": 257,
     "metadata": {},
     "output_type": "execute_result"
    }
   ],
   "source": [
    "x_3.describe()"
   ]
  },
  {
   "cell_type": "markdown",
   "id": "398e1af7",
   "metadata": {},
   "source": [
    "Можем либо удалить из большего массива либо добавить в меньший еще одно среднее значение"
   ]
  },
  {
   "cell_type": "code",
   "execution_count": 258,
   "id": "2edfd261",
   "metadata": {},
   "outputs": [],
   "source": [
    "x_3=x_3.drop(0)"
   ]
  },
  {
   "cell_type": "code",
   "execution_count": 259,
   "id": "b8a7da79",
   "metadata": {},
   "outputs": [
    {
     "data": {
      "text/plain": [
       "count    119.000000\n",
       "mean       2.190011\n",
       "std        0.500086\n",
       "min        0.162519\n",
       "25%        1.919344\n",
       "50%        2.242481\n",
       "75%        2.500752\n",
       "max        3.531251\n",
       "Name: average_timespent_for_lesson_minutes_LOG, dtype: float64"
      ]
     },
     "execution_count": 259,
     "metadata": {},
     "output_type": "execute_result"
    }
   ],
   "source": [
    "x_3.describe()"
   ]
  },
  {
   "cell_type": "code",
   "execution_count": 260,
   "id": "0056c992",
   "metadata": {},
   "outputs": [
    {
     "data": {
      "text/plain": [
       "array([[1.        , 0.04556696],\n",
       "       [0.04556696, 1.        ]])"
      ]
     },
     "execution_count": 260,
     "metadata": {},
     "output_type": "execute_result"
    }
   ],
   "source": [
    "np.corrcoef(x_3, y_3)"
   ]
  },
  {
   "cell_type": "code",
   "execution_count": 261,
   "id": "fc8b8fd0",
   "metadata": {},
   "outputs": [
    {
     "data": {
      "text/plain": [
       "(0.045566962496661215, 0.6226586883428709)"
      ]
     },
     "execution_count": 261,
     "metadata": {},
     "output_type": "execute_result"
    }
   ],
   "source": [
    "#коэффициент корреляции с помощью scipy\n",
    "st.pearsonr(x_3, y_3)"
   ]
  },
  {
   "cell_type": "code",
   "execution_count": 262,
   "id": "bd3d8988",
   "metadata": {},
   "outputs": [
    {
     "data": {
      "text/plain": [
       "SpearmanrResult(correlation=0.06257467686107554, pvalue=0.4989981370091875)"
      ]
     },
     "execution_count": 262,
     "metadata": {},
     "output_type": "execute_result"
    }
   ],
   "source": [
    "#коэффициент корреляции по Спирману с помощью использования рангов\n",
    "st.spearmanr(x_3, y_3)"
   ]
  },
  {
   "cell_type": "code",
   "execution_count": 263,
   "id": "ec4af120",
   "metadata": {},
   "outputs": [
    {
     "data": {
      "text/plain": [
       "KendalltauResult(correlation=0.04482675464459871, pvalue=0.48170189479232994)"
      ]
     },
     "execution_count": 263,
     "metadata": {},
     "output_type": "execute_result"
    }
   ],
   "source": [
    "#коэффициент корреляции по Кендаллу - лучше всего в нашем случае, поскольку второй показатель не имеет нормального распределения\n",
    "st.kendalltau(x_3, y_3)"
   ]
  },
  {
   "cell_type": "markdown",
   "id": "e45c40d5",
   "metadata": {},
   "source": [
    "По результатм оценки показателей p-value и коэффициентам корреляции - связь между переменными отсутствует "
   ]
  },
  {
   "cell_type": "markdown",
   "id": "9fd4059e",
   "metadata": {},
   "source": [
    "# КЛАСТЕРНЫЙ АНАЛИЗ"
   ]
  },
  {
   "cell_type": "code",
   "execution_count": 264,
   "id": "b3dee471",
   "metadata": {},
   "outputs": [],
   "source": [
    "#Выбираем переменные для анализа     \n",
    "cols = [\"count_of_items\", \"count_of_lessons\", \"count_of_finished_lessons\",\n",
    "        \"average_timespent_for_item_minutes\", \"total_sum_of_points\",\n",
    "        \"total_time_spent_in_apps_minutes\", \"average_points_for_lesson\",\n",
    "       \"average_points_for_item\"]\n",
    "data=df[cols]"
   ]
  },
  {
   "cell_type": "code",
   "execution_count": 265,
   "id": "7c1a2c30",
   "metadata": {},
   "outputs": [
    {
     "data": {
      "text/html": [
       "<div>\n",
       "<style scoped>\n",
       "    .dataframe tbody tr th:only-of-type {\n",
       "        vertical-align: middle;\n",
       "    }\n",
       "\n",
       "    .dataframe tbody tr th {\n",
       "        vertical-align: top;\n",
       "    }\n",
       "\n",
       "    .dataframe thead th {\n",
       "        text-align: right;\n",
       "    }\n",
       "</style>\n",
       "<table border=\"1\" class=\"dataframe\">\n",
       "  <thead>\n",
       "    <tr style=\"text-align: right;\">\n",
       "      <th></th>\n",
       "      <th>count_of_items</th>\n",
       "      <th>count_of_lessons</th>\n",
       "      <th>count_of_finished_lessons</th>\n",
       "      <th>average_timespent_for_item_minutes</th>\n",
       "      <th>total_sum_of_points</th>\n",
       "      <th>total_time_spent_in_apps_minutes</th>\n",
       "      <th>average_points_for_lesson</th>\n",
       "      <th>average_points_for_item</th>\n",
       "    </tr>\n",
       "  </thead>\n",
       "  <tbody>\n",
       "    <tr>\n",
       "      <th>0</th>\n",
       "      <td>314.0</td>\n",
       "      <td>8.0</td>\n",
       "      <td>6.0</td>\n",
       "      <td>0.133333</td>\n",
       "      <td>51.0</td>\n",
       "      <td>42.183333</td>\n",
       "      <td>6.375000</td>\n",
       "      <td>1.500000</td>\n",
       "    </tr>\n",
       "    <tr>\n",
       "      <th>1</th>\n",
       "      <td>1418.0</td>\n",
       "      <td>39.0</td>\n",
       "      <td>39.0</td>\n",
       "      <td>0.266667</td>\n",
       "      <td>335.0</td>\n",
       "      <td>392.333333</td>\n",
       "      <td>8.589744</td>\n",
       "      <td>1.744792</td>\n",
       "    </tr>\n",
       "    <tr>\n",
       "      <th>2</th>\n",
       "      <td>223.0</td>\n",
       "      <td>6.0</td>\n",
       "      <td>6.0</td>\n",
       "      <td>0.283333</td>\n",
       "      <td>38.0</td>\n",
       "      <td>66.100000</td>\n",
       "      <td>6.333333</td>\n",
       "      <td>1.407407</td>\n",
       "    </tr>\n",
       "    <tr>\n",
       "      <th>3</th>\n",
       "      <td>459.0</td>\n",
       "      <td>12.0</td>\n",
       "      <td>11.0</td>\n",
       "      <td>0.316667</td>\n",
       "      <td>63.0</td>\n",
       "      <td>149.666667</td>\n",
       "      <td>5.727273</td>\n",
       "      <td>1.400000</td>\n",
       "    </tr>\n",
       "    <tr>\n",
       "      <th>5</th>\n",
       "      <td>1466.0</td>\n",
       "      <td>40.0</td>\n",
       "      <td>39.0</td>\n",
       "      <td>0.350000</td>\n",
       "      <td>340.0</td>\n",
       "      <td>516.500000</td>\n",
       "      <td>8.500000</td>\n",
       "      <td>1.717172</td>\n",
       "    </tr>\n",
       "    <tr>\n",
       "      <th>...</th>\n",
       "      <td>...</td>\n",
       "      <td>...</td>\n",
       "      <td>...</td>\n",
       "      <td>...</td>\n",
       "      <td>...</td>\n",
       "      <td>...</td>\n",
       "      <td>...</td>\n",
       "      <td>...</td>\n",
       "    </tr>\n",
       "    <tr>\n",
       "      <th>135</th>\n",
       "      <td>715.0</td>\n",
       "      <td>19.0</td>\n",
       "      <td>17.0</td>\n",
       "      <td>0.333333</td>\n",
       "      <td>146.0</td>\n",
       "      <td>248.800000</td>\n",
       "      <td>8.111111</td>\n",
       "      <td>1.536842</td>\n",
       "    </tr>\n",
       "    <tr>\n",
       "      <th>136</th>\n",
       "      <td>613.0</td>\n",
       "      <td>18.0</td>\n",
       "      <td>17.0</td>\n",
       "      <td>0.100000</td>\n",
       "      <td>105.0</td>\n",
       "      <td>67.533333</td>\n",
       "      <td>6.176471</td>\n",
       "      <td>1.418919</td>\n",
       "    </tr>\n",
       "    <tr>\n",
       "      <th>137</th>\n",
       "      <td>140.0</td>\n",
       "      <td>4.0</td>\n",
       "      <td>3.0</td>\n",
       "      <td>0.216667</td>\n",
       "      <td>33.0</td>\n",
       "      <td>32.583333</td>\n",
       "      <td>8.250000</td>\n",
       "      <td>1.571429</td>\n",
       "    </tr>\n",
       "    <tr>\n",
       "      <th>138</th>\n",
       "      <td>170.0</td>\n",
       "      <td>5.0</td>\n",
       "      <td>4.0</td>\n",
       "      <td>0.266667</td>\n",
       "      <td>27.0</td>\n",
       "      <td>46.483333</td>\n",
       "      <td>5.400000</td>\n",
       "      <td>1.500000</td>\n",
       "    </tr>\n",
       "    <tr>\n",
       "      <th>139</th>\n",
       "      <td>1415.0</td>\n",
       "      <td>39.0</td>\n",
       "      <td>38.0</td>\n",
       "      <td>0.216667</td>\n",
       "      <td>327.0</td>\n",
       "      <td>315.133333</td>\n",
       "      <td>8.384615</td>\n",
       "      <td>1.777174</td>\n",
       "    </tr>\n",
       "  </tbody>\n",
       "</table>\n",
       "<p>120 rows × 8 columns</p>\n",
       "</div>"
      ],
      "text/plain": [
       "     count_of_items  count_of_lessons  count_of_finished_lessons  \\\n",
       "0             314.0               8.0                        6.0   \n",
       "1            1418.0              39.0                       39.0   \n",
       "2             223.0               6.0                        6.0   \n",
       "3             459.0              12.0                       11.0   \n",
       "5            1466.0              40.0                       39.0   \n",
       "..              ...               ...                        ...   \n",
       "135           715.0              19.0                       17.0   \n",
       "136           613.0              18.0                       17.0   \n",
       "137           140.0               4.0                        3.0   \n",
       "138           170.0               5.0                        4.0   \n",
       "139          1415.0              39.0                       38.0   \n",
       "\n",
       "     average_timespent_for_item_minutes  total_sum_of_points  \\\n",
       "0                              0.133333                 51.0   \n",
       "1                              0.266667                335.0   \n",
       "2                              0.283333                 38.0   \n",
       "3                              0.316667                 63.0   \n",
       "5                              0.350000                340.0   \n",
       "..                                  ...                  ...   \n",
       "135                            0.333333                146.0   \n",
       "136                            0.100000                105.0   \n",
       "137                            0.216667                 33.0   \n",
       "138                            0.266667                 27.0   \n",
       "139                            0.216667                327.0   \n",
       "\n",
       "     total_time_spent_in_apps_minutes  average_points_for_lesson  \\\n",
       "0                           42.183333                   6.375000   \n",
       "1                          392.333333                   8.589744   \n",
       "2                           66.100000                   6.333333   \n",
       "3                          149.666667                   5.727273   \n",
       "5                          516.500000                   8.500000   \n",
       "..                                ...                        ...   \n",
       "135                        248.800000                   8.111111   \n",
       "136                         67.533333                   6.176471   \n",
       "137                         32.583333                   8.250000   \n",
       "138                         46.483333                   5.400000   \n",
       "139                        315.133333                   8.384615   \n",
       "\n",
       "     average_points_for_item  \n",
       "0                   1.500000  \n",
       "1                   1.744792  \n",
       "2                   1.407407  \n",
       "3                   1.400000  \n",
       "5                   1.717172  \n",
       "..                       ...  \n",
       "135                 1.536842  \n",
       "136                 1.418919  \n",
       "137                 1.571429  \n",
       "138                 1.500000  \n",
       "139                 1.777174  \n",
       "\n",
       "[120 rows x 8 columns]"
      ]
     },
     "execution_count": 265,
     "metadata": {},
     "output_type": "execute_result"
    }
   ],
   "source": [
    "data_adj = data.copy()\n",
    "data_adj.dropna (how='all') "
   ]
  },
  {
   "cell_type": "code",
   "execution_count": 266,
   "id": "07533ba2",
   "metadata": {},
   "outputs": [],
   "source": [
    "cat_col = [\"count_of_items\", \"count_of_lessons\", \"count_of_finished_lessons\",\n",
    "        \"average_timespent_for_item_minutes\", \"total_sum_of_points\",\n",
    "        \"total_time_spent_in_apps_minutes\", \"average_points_for_lesson\",\n",
    "       \"average_points_for_item\"]"
   ]
  },
  {
   "cell_type": "code",
   "execution_count": 267,
   "id": "f2e5313b",
   "metadata": {},
   "outputs": [],
   "source": [
    "for col in cat_col:\n",
    "    labelencoder = LabelEncoder()\n",
    "    data_adj[col] = labelencoder.fit_transform(data_adj[col])"
   ]
  },
  {
   "cell_type": "code",
   "execution_count": 268,
   "id": "92d6d69f",
   "metadata": {},
   "outputs": [
    {
     "data": {
      "text/html": [
       "<div>\n",
       "<style scoped>\n",
       "    .dataframe tbody tr th:only-of-type {\n",
       "        vertical-align: middle;\n",
       "    }\n",
       "\n",
       "    .dataframe tbody tr th {\n",
       "        vertical-align: top;\n",
       "    }\n",
       "\n",
       "    .dataframe thead th {\n",
       "        text-align: right;\n",
       "    }\n",
       "</style>\n",
       "<table border=\"1\" class=\"dataframe\">\n",
       "  <thead>\n",
       "    <tr style=\"text-align: right;\">\n",
       "      <th></th>\n",
       "      <th>count_of_items</th>\n",
       "      <th>count_of_lessons</th>\n",
       "      <th>count_of_finished_lessons</th>\n",
       "      <th>average_timespent_for_item_minutes</th>\n",
       "      <th>total_sum_of_points</th>\n",
       "      <th>total_time_spent_in_apps_minutes</th>\n",
       "      <th>average_points_for_lesson</th>\n",
       "      <th>average_points_for_item</th>\n",
       "    </tr>\n",
       "  </thead>\n",
       "  <tbody>\n",
       "    <tr>\n",
       "      <th>0</th>\n",
       "      <td>30</td>\n",
       "      <td>7</td>\n",
       "      <td>5</td>\n",
       "      <td>4</td>\n",
       "      <td>26</td>\n",
       "      <td>22</td>\n",
       "      <td>19</td>\n",
       "      <td>16</td>\n",
       "    </tr>\n",
       "    <tr>\n",
       "      <th>1</th>\n",
       "      <td>78</td>\n",
       "      <td>28</td>\n",
       "      <td>30</td>\n",
       "      <td>12</td>\n",
       "      <td>85</td>\n",
       "      <td>104</td>\n",
       "      <td>74</td>\n",
       "      <td>71</td>\n",
       "    </tr>\n",
       "    <tr>\n",
       "      <th>2</th>\n",
       "      <td>24</td>\n",
       "      <td>5</td>\n",
       "      <td>5</td>\n",
       "      <td>13</td>\n",
       "      <td>21</td>\n",
       "      <td>35</td>\n",
       "      <td>18</td>\n",
       "      <td>10</td>\n",
       "    </tr>\n",
       "    <tr>\n",
       "      <th>3</th>\n",
       "      <td>39</td>\n",
       "      <td>10</td>\n",
       "      <td>9</td>\n",
       "      <td>15</td>\n",
       "      <td>35</td>\n",
       "      <td>59</td>\n",
       "      <td>13</td>\n",
       "      <td>8</td>\n",
       "    </tr>\n",
       "    <tr>\n",
       "      <th>5</th>\n",
       "      <td>82</td>\n",
       "      <td>29</td>\n",
       "      <td>30</td>\n",
       "      <td>17</td>\n",
       "      <td>87</td>\n",
       "      <td>112</td>\n",
       "      <td>68</td>\n",
       "      <td>58</td>\n",
       "    </tr>\n",
       "    <tr>\n",
       "      <th>7</th>\n",
       "      <td>65</td>\n",
       "      <td>20</td>\n",
       "      <td>22</td>\n",
       "      <td>8</td>\n",
       "      <td>64</td>\n",
       "      <td>75</td>\n",
       "      <td>58</td>\n",
       "      <td>54</td>\n",
       "    </tr>\n",
       "    <tr>\n",
       "      <th>8</th>\n",
       "      <td>59</td>\n",
       "      <td>19</td>\n",
       "      <td>20</td>\n",
       "      <td>7</td>\n",
       "      <td>59</td>\n",
       "      <td>65</td>\n",
       "      <td>50</td>\n",
       "      <td>38</td>\n",
       "    </tr>\n",
       "  </tbody>\n",
       "</table>\n",
       "</div>"
      ],
      "text/plain": [
       "   count_of_items  count_of_lessons  count_of_finished_lessons  \\\n",
       "0              30                 7                          5   \n",
       "1              78                28                         30   \n",
       "2              24                 5                          5   \n",
       "3              39                10                          9   \n",
       "5              82                29                         30   \n",
       "7              65                20                         22   \n",
       "8              59                19                         20   \n",
       "\n",
       "   average_timespent_for_item_minutes  total_sum_of_points  \\\n",
       "0                                   4                   26   \n",
       "1                                  12                   85   \n",
       "2                                  13                   21   \n",
       "3                                  15                   35   \n",
       "5                                  17                   87   \n",
       "7                                   8                   64   \n",
       "8                                   7                   59   \n",
       "\n",
       "   total_time_spent_in_apps_minutes  average_points_for_lesson  \\\n",
       "0                                22                         19   \n",
       "1                               104                         74   \n",
       "2                                35                         18   \n",
       "3                                59                         13   \n",
       "5                               112                         68   \n",
       "7                                75                         58   \n",
       "8                                65                         50   \n",
       "\n",
       "   average_points_for_item  \n",
       "0                       16  \n",
       "1                       71  \n",
       "2                       10  \n",
       "3                        8  \n",
       "5                       58  \n",
       "7                       54  \n",
       "8                       38  "
      ]
     },
     "execution_count": 268,
     "metadata": {},
     "output_type": "execute_result"
    }
   ],
   "source": [
    "data_adj.head(7)"
   ]
  },
  {
   "cell_type": "code",
   "execution_count": 269,
   "id": "10dd0d95",
   "metadata": {},
   "outputs": [],
   "source": [
    "#стандартизация x текущее-x среднее/делим на стандартное отклонение\n",
    "scaler = StandardScaler()\n",
    "scaled_data = scaler.fit_transform(data_adj)\n",
    "scaled_data = pd.DataFrame(scaled_data, columns=data_adj.columns)"
   ]
  },
  {
   "cell_type": "code",
   "execution_count": 270,
   "id": "e3e02843",
   "metadata": {},
   "outputs": [
    {
     "data": {
      "text/html": [
       "<div>\n",
       "<style scoped>\n",
       "    .dataframe tbody tr th:only-of-type {\n",
       "        vertical-align: middle;\n",
       "    }\n",
       "\n",
       "    .dataframe tbody tr th {\n",
       "        vertical-align: top;\n",
       "    }\n",
       "\n",
       "    .dataframe thead th {\n",
       "        text-align: right;\n",
       "    }\n",
       "</style>\n",
       "<table border=\"1\" class=\"dataframe\">\n",
       "  <thead>\n",
       "    <tr style=\"text-align: right;\">\n",
       "      <th></th>\n",
       "      <th>count_of_items</th>\n",
       "      <th>count_of_lessons</th>\n",
       "      <th>count_of_finished_lessons</th>\n",
       "      <th>average_timespent_for_item_minutes</th>\n",
       "      <th>total_sum_of_points</th>\n",
       "      <th>total_time_spent_in_apps_minutes</th>\n",
       "      <th>average_points_for_lesson</th>\n",
       "      <th>average_points_for_item</th>\n",
       "    </tr>\n",
       "  </thead>\n",
       "  <tbody>\n",
       "    <tr>\n",
       "      <th>0</th>\n",
       "      <td>-0.738659</td>\n",
       "      <td>-0.871915</td>\n",
       "      <td>-1.017625</td>\n",
       "      <td>-1.107326</td>\n",
       "      <td>-0.845592</td>\n",
       "      <td>-1.107114</td>\n",
       "      <td>-0.968234</td>\n",
       "      <td>-1.144760</td>\n",
       "    </tr>\n",
       "    <tr>\n",
       "      <th>1</th>\n",
       "      <td>0.997501</td>\n",
       "      <td>1.074685</td>\n",
       "      <td>1.096921</td>\n",
       "      <td>0.155371</td>\n",
       "      <td>0.948708</td>\n",
       "      <td>1.141825</td>\n",
       "      <td>0.790375</td>\n",
       "      <td>0.516227</td>\n",
       "    </tr>\n",
       "    <tr>\n",
       "      <th>2</th>\n",
       "      <td>-0.955679</td>\n",
       "      <td>-1.057305</td>\n",
       "      <td>-1.017625</td>\n",
       "      <td>0.313208</td>\n",
       "      <td>-0.997652</td>\n",
       "      <td>-0.750575</td>\n",
       "      <td>-1.000209</td>\n",
       "      <td>-1.325959</td>\n",
       "    </tr>\n",
       "    <tr>\n",
       "      <th>3</th>\n",
       "      <td>-0.413129</td>\n",
       "      <td>-0.593829</td>\n",
       "      <td>-0.679298</td>\n",
       "      <td>0.628882</td>\n",
       "      <td>-0.571886</td>\n",
       "      <td>-0.092349</td>\n",
       "      <td>-1.160082</td>\n",
       "      <td>-1.386358</td>\n",
       "    </tr>\n",
       "    <tr>\n",
       "      <th>4</th>\n",
       "      <td>1.142181</td>\n",
       "      <td>1.167381</td>\n",
       "      <td>1.096921</td>\n",
       "      <td>0.944557</td>\n",
       "      <td>1.009531</td>\n",
       "      <td>1.361234</td>\n",
       "      <td>0.598526</td>\n",
       "      <td>0.123630</td>\n",
       "    </tr>\n",
       "    <tr>\n",
       "      <th>...</th>\n",
       "      <td>...</td>\n",
       "      <td>...</td>\n",
       "      <td>...</td>\n",
       "      <td>...</td>\n",
       "      <td>...</td>\n",
       "      <td>...</td>\n",
       "      <td>...</td>\n",
       "      <td>...</td>\n",
       "    </tr>\n",
       "    <tr>\n",
       "      <th>123</th>\n",
       "      <td>-0.015259</td>\n",
       "      <td>-0.037657</td>\n",
       "      <td>-0.256389</td>\n",
       "      <td>0.786720</td>\n",
       "      <td>-0.054884</td>\n",
       "      <td>0.428747</td>\n",
       "      <td>0.150881</td>\n",
       "      <td>-1.023961</td>\n",
       "    </tr>\n",
       "    <tr>\n",
       "      <th>124</th>\n",
       "      <td>-0.159939</td>\n",
       "      <td>-0.130353</td>\n",
       "      <td>-0.256389</td>\n",
       "      <td>-1.423001</td>\n",
       "      <td>-0.298179</td>\n",
       "      <td>-0.723149</td>\n",
       "      <td>-1.032183</td>\n",
       "      <td>-1.265559</td>\n",
       "    </tr>\n",
       "    <tr>\n",
       "      <th>125</th>\n",
       "      <td>-1.281209</td>\n",
       "      <td>-1.242695</td>\n",
       "      <td>-1.271371</td>\n",
       "      <td>-0.318141</td>\n",
       "      <td>-1.058475</td>\n",
       "      <td>-1.189392</td>\n",
       "      <td>0.342729</td>\n",
       "      <td>-0.903162</td>\n",
       "    </tr>\n",
       "    <tr>\n",
       "      <th>126</th>\n",
       "      <td>-1.100359</td>\n",
       "      <td>-1.150000</td>\n",
       "      <td>-1.186789</td>\n",
       "      <td>0.155371</td>\n",
       "      <td>-1.088887</td>\n",
       "      <td>-0.997410</td>\n",
       "      <td>-1.287981</td>\n",
       "      <td>-1.144760</td>\n",
       "    </tr>\n",
       "    <tr>\n",
       "      <th>127</th>\n",
       "      <td>0.925161</td>\n",
       "      <td>1.074685</td>\n",
       "      <td>1.012339</td>\n",
       "      <td>-0.318141</td>\n",
       "      <td>0.827060</td>\n",
       "      <td>0.812712</td>\n",
       "      <td>0.502602</td>\n",
       "      <td>1.029623</td>\n",
       "    </tr>\n",
       "  </tbody>\n",
       "</table>\n",
       "<p>128 rows × 8 columns</p>\n",
       "</div>"
      ],
      "text/plain": [
       "     count_of_items  count_of_lessons  count_of_finished_lessons  \\\n",
       "0         -0.738659         -0.871915                  -1.017625   \n",
       "1          0.997501          1.074685                   1.096921   \n",
       "2         -0.955679         -1.057305                  -1.017625   \n",
       "3         -0.413129         -0.593829                  -0.679298   \n",
       "4          1.142181          1.167381                   1.096921   \n",
       "..              ...               ...                        ...   \n",
       "123       -0.015259         -0.037657                  -0.256389   \n",
       "124       -0.159939         -0.130353                  -0.256389   \n",
       "125       -1.281209         -1.242695                  -1.271371   \n",
       "126       -1.100359         -1.150000                  -1.186789   \n",
       "127        0.925161          1.074685                   1.012339   \n",
       "\n",
       "     average_timespent_for_item_minutes  total_sum_of_points  \\\n",
       "0                             -1.107326            -0.845592   \n",
       "1                              0.155371             0.948708   \n",
       "2                              0.313208            -0.997652   \n",
       "3                              0.628882            -0.571886   \n",
       "4                              0.944557             1.009531   \n",
       "..                                  ...                  ...   \n",
       "123                            0.786720            -0.054884   \n",
       "124                           -1.423001            -0.298179   \n",
       "125                           -0.318141            -1.058475   \n",
       "126                            0.155371            -1.088887   \n",
       "127                           -0.318141             0.827060   \n",
       "\n",
       "     total_time_spent_in_apps_minutes  average_points_for_lesson  \\\n",
       "0                           -1.107114                  -0.968234   \n",
       "1                            1.141825                   0.790375   \n",
       "2                           -0.750575                  -1.000209   \n",
       "3                           -0.092349                  -1.160082   \n",
       "4                            1.361234                   0.598526   \n",
       "..                                ...                        ...   \n",
       "123                          0.428747                   0.150881   \n",
       "124                         -0.723149                  -1.032183   \n",
       "125                         -1.189392                   0.342729   \n",
       "126                         -0.997410                  -1.287981   \n",
       "127                          0.812712                   0.502602   \n",
       "\n",
       "     average_points_for_item  \n",
       "0                  -1.144760  \n",
       "1                   0.516227  \n",
       "2                  -1.325959  \n",
       "3                  -1.386358  \n",
       "4                   0.123630  \n",
       "..                       ...  \n",
       "123                -1.023961  \n",
       "124                -1.265559  \n",
       "125                -0.903162  \n",
       "126                -1.144760  \n",
       "127                 1.029623  \n",
       "\n",
       "[128 rows x 8 columns]"
      ]
     },
     "execution_count": 270,
     "metadata": {},
     "output_type": "execute_result"
    }
   ],
   "source": [
    "scaled_data"
   ]
  },
  {
   "cell_type": "code",
   "execution_count": 271,
   "id": "5691f591",
   "metadata": {},
   "outputs": [
    {
     "data": {
      "text/plain": [
       "array([[-0.7386592 , -0.87191453, -1.0176251 , ..., -1.10711391,\n",
       "        -0.96823395, -1.14475997],\n",
       "       [ 0.99750075,  1.07468535,  1.09692056, ...,  1.14182505,\n",
       "         0.79037467,  0.51622729],\n",
       "       [-0.95567919, -1.057305  , -1.0176251 , ..., -0.7505748 ,\n",
       "        -1.00020865, -1.32595858],\n",
       "       ...,\n",
       "       [-1.28120918, -1.24269546, -1.27137057, ..., -1.18939216,\n",
       "         0.34272884, -0.90316182],\n",
       "       [-1.10035919, -1.15000023, -1.18678875, ..., -0.99740957,\n",
       "        -1.28798097, -1.14475997],\n",
       "       [ 0.92516076,  1.07468535,  1.01233873, ...,  0.81271203,\n",
       "         0.50260235,  1.02962335]])"
      ]
     },
     "execution_count": 271,
     "metadata": {},
     "output_type": "execute_result"
    }
   ],
   "source": [
    "x_cluster=scaled_data.values\n",
    "x_cluster"
   ]
  },
  {
   "cell_type": "code",
   "execution_count": 272,
   "id": "325eb542",
   "metadata": {},
   "outputs": [],
   "source": [
    "sse = []\n",
    "for k in np.arange(1,10,1):\n",
    "    kmeans = KMeans(n_clusters=k, n_init=10, max_iter=300, random_state=10)\n",
    "    kmeans.fit(x_cluster)\n",
    "    sse.append(kmeans.inertia_)"
   ]
  },
  {
   "cell_type": "code",
   "execution_count": 413,
   "id": "84fe31fe",
   "metadata": {},
   "outputs": [
    {
     "data": {
      "image/png": "[encoded data removed]",
      "text/plain": [
       "<Figure size 432x288 with 1 Axes>"
      ]
     },
     "metadata": {},
     "output_type": "display_data"
    }
   ],
   "source": [
    "plt.style.use(\"fivethirtyeight\")\n",
    "plt.plot(np.arange(1,10,1), sse, color='C2')\n",
    "plt.xticks(np.arange(1,10,1))\n",
    "plt.xlabel(\"Number of Cluster\")\n",
    "plt.ylabel(\"SSE\")\n",
    "plt.show()"
   ]
  },
  {
   "cell_type": "code",
   "execution_count": 274,
   "id": "27f54397",
   "metadata": {},
   "outputs": [
    {
     "data": {
      "text/plain": [
       "2"
      ]
     },
     "execution_count": 274,
     "metadata": {},
     "output_type": "execute_result"
    }
   ],
   "source": [
    "K1 = KneeLocator(np.arange(1, 10, 1), sse, curve=\"convex\", direction=\"decreasing\")\n",
    "K1.elbow"
   ]
  },
  {
   "cell_type": "code",
   "execution_count": 275,
   "id": "11209293",
   "metadata": {},
   "outputs": [
    {
     "data": {
      "text/plain": [
       "KMeans(n_clusters=2, random_state=10)"
      ]
     },
     "execution_count": 275,
     "metadata": {},
     "output_type": "execute_result"
    }
   ],
   "source": [
    "#забиваем в модель 2 кластера\n",
    "kmeans = KMeans(n_clusters=2, n_init=10, max_iter=300, random_state=10)\n",
    "kmeans.fit(scaled_data)"
   ]
  },
  {
   "cell_type": "code",
   "execution_count": 276,
   "id": "1efa4871",
   "metadata": {},
   "outputs": [
    {
     "data": {
      "text/plain": [
       "array([1, 0, 1, 1, 0, 0, 0, 0, 1, 0, 1, 1, 1, 1, 0, 0, 1, 0, 0, 1, 0, 1,\n",
       "       1, 1, 0, 1, 0, 1, 0, 1, 1, 1, 0, 0, 0, 1, 1, 0, 1, 1, 1, 1, 0, 1,\n",
       "       0, 1, 1, 1, 0, 0, 1, 0, 1, 1, 0, 0, 0, 0, 0, 0, 1, 1, 1, 1, 1, 0,\n",
       "       1, 1, 0, 0, 1, 1, 1, 1, 0, 0, 1, 1, 1, 0, 1, 0, 0, 1, 0, 0, 1, 0,\n",
       "       0, 0, 1, 1, 1, 0, 0, 1, 0, 0, 1, 0, 0, 0, 0, 0, 1, 0, 1, 0, 0, 0,\n",
       "       0, 1, 0, 1, 0, 0, 1, 0, 0, 1, 1, 1, 1, 1, 1, 1, 1, 0], dtype=int32)"
      ]
     },
     "execution_count": 276,
     "metadata": {},
     "output_type": "execute_result"
    }
   ],
   "source": [
    "#к какому кластеру алгоритм отнес каждлого пользователя\n",
    "cluster = kmeans.labels_\n",
    "cluster"
   ]
  },
  {
   "cell_type": "code",
   "execution_count": 277,
   "id": "3fd5ce1e",
   "metadata": {},
   "outputs": [],
   "source": [
    "data_adj['cluster'] = cluster"
   ]
  },
  {
   "cell_type": "code",
   "execution_count": 278,
   "id": "87e60be7",
   "metadata": {},
   "outputs": [
    {
     "data": {
      "text/plain": [
       "cluster\n",
       "0    62\n",
       "1    66\n",
       "dtype: int64"
      ]
     },
     "execution_count": 278,
     "metadata": {},
     "output_type": "execute_result"
    }
   ],
   "source": [
    "data_adj.groupby('cluster').size()"
   ]
  },
  {
   "cell_type": "code",
   "execution_count": 279,
   "id": "503b2eb3",
   "metadata": {},
   "outputs": [
    {
     "data": {
      "text/html": [
       "<div>\n",
       "<style scoped>\n",
       "    .dataframe tbody tr th:only-of-type {\n",
       "        vertical-align: middle;\n",
       "    }\n",
       "\n",
       "    .dataframe tbody tr th {\n",
       "        vertical-align: top;\n",
       "    }\n",
       "\n",
       "    .dataframe thead th {\n",
       "        text-align: right;\n",
       "    }\n",
       "</style>\n",
       "<table border=\"1\" class=\"dataframe\">\n",
       "  <thead>\n",
       "    <tr style=\"text-align: right;\">\n",
       "      <th></th>\n",
       "      <th>count_of_items</th>\n",
       "      <th>count_of_lessons</th>\n",
       "      <th>count_of_finished_lessons</th>\n",
       "      <th>average_timespent_for_item_minutes</th>\n",
       "      <th>total_sum_of_points</th>\n",
       "      <th>total_time_spent_in_apps_minutes</th>\n",
       "      <th>average_points_for_lesson</th>\n",
       "      <th>average_points_for_item</th>\n",
       "    </tr>\n",
       "    <tr>\n",
       "      <th>cluster</th>\n",
       "      <th></th>\n",
       "      <th></th>\n",
       "      <th></th>\n",
       "      <th></th>\n",
       "      <th></th>\n",
       "      <th></th>\n",
       "      <th></th>\n",
       "      <th></th>\n",
       "    </tr>\n",
       "  </thead>\n",
       "  <tbody>\n",
       "    <tr>\n",
       "      <th>0</th>\n",
       "      <td>75.225806</td>\n",
       "      <td>26.403226</td>\n",
       "      <td>27.854839</td>\n",
       "      <td>12.725806</td>\n",
       "      <td>83.532258</td>\n",
       "      <td>93.806452</td>\n",
       "      <td>74.887097</td>\n",
       "      <td>76.145161</td>\n",
       "    </tr>\n",
       "    <tr>\n",
       "      <th>1</th>\n",
       "      <td>27.121212</td>\n",
       "      <td>7.015152</td>\n",
       "      <td>6.863636</td>\n",
       "      <td>9.409091</td>\n",
       "      <td>25.878788</td>\n",
       "      <td>32.833333</td>\n",
       "      <td>25.227273</td>\n",
       "      <td>33.015152</td>\n",
       "    </tr>\n",
       "  </tbody>\n",
       "</table>\n",
       "</div>"
      ],
      "text/plain": [
       "         count_of_items  count_of_lessons  count_of_finished_lessons  \\\n",
       "cluster                                                                \n",
       "0             75.225806         26.403226                  27.854839   \n",
       "1             27.121212          7.015152                   6.863636   \n",
       "\n",
       "         average_timespent_for_item_minutes  total_sum_of_points  \\\n",
       "cluster                                                            \n",
       "0                                 12.725806            83.532258   \n",
       "1                                  9.409091            25.878788   \n",
       "\n",
       "         total_time_spent_in_apps_minutes  average_points_for_lesson  \\\n",
       "cluster                                                                \n",
       "0                               93.806452                  74.887097   \n",
       "1                               32.833333                  25.227273   \n",
       "\n",
       "         average_points_for_item  \n",
       "cluster                           \n",
       "0                      76.145161  \n",
       "1                      33.015152  "
      ]
     },
     "execution_count": 279,
     "metadata": {},
     "output_type": "execute_result"
    }
   ],
   "source": [
    "means = data_adj.groupby('cluster').mean()\n",
    "means"
   ]
  },
  {
   "cell_type": "markdown",
   "id": "2b1d5ebd",
   "metadata": {},
   "source": [
    "На основании это результата (поскольку некоторые наши переменные являются относительно производными друг от друга), можем убрать из кластерного анализа некоторые переменные, например - count_of_items и count_of_lessons, кроме того средняя по показателю count_of_finished_lessons различается значительнее. Следовательно оставляем count_of_finished_lessons - гораздо более значимый показатель, на его основании можно выделить кластер пользователей - \"отстающие\" или \"неактивные\". Далее смотрим по временным показателям - оставим в кластерной модели среднее время выполнения тестового задания (average_timespent_for_item_minutes), а также общее время проведенное в системе. Можно назвать пользователей на \"быстрых\" и \"медленных\", на \"потрятивших много времени в приложении\" и наоборот. По показателям группы \"Points\" - может оставить total_sum_of_points - сколько всего получил баллов пользователь за прохождение всех курсов."
   ]
  },
  {
   "cell_type": "code",
   "execution_count": 280,
   "id": "4bc53707",
   "metadata": {},
   "outputs": [],
   "source": [
    "#Повторно выбираем переменные для анализа     \n",
    "cols_1 = [\"count_of_finished_lessons\",\"average_timespent_for_item_minutes\", \"total_time_spent_in_apps_minutes\", \"average_points_for_lesson\", \"total_sum_of_points\",]\n",
    "data_1=df[cols_1]"
   ]
  },
  {
   "cell_type": "code",
   "execution_count": 281,
   "id": "62bd7109",
   "metadata": {},
   "outputs": [
    {
     "data": {
      "text/html": [
       "<div>\n",
       "<style scoped>\n",
       "    .dataframe tbody tr th:only-of-type {\n",
       "        vertical-align: middle;\n",
       "    }\n",
       "\n",
       "    .dataframe tbody tr th {\n",
       "        vertical-align: top;\n",
       "    }\n",
       "\n",
       "    .dataframe thead th {\n",
       "        text-align: right;\n",
       "    }\n",
       "</style>\n",
       "<table border=\"1\" class=\"dataframe\">\n",
       "  <thead>\n",
       "    <tr style=\"text-align: right;\">\n",
       "      <th></th>\n",
       "      <th>count_of_finished_lessons</th>\n",
       "      <th>average_timespent_for_item_minutes</th>\n",
       "      <th>total_time_spent_in_apps_minutes</th>\n",
       "      <th>average_points_for_lesson</th>\n",
       "      <th>total_sum_of_points</th>\n",
       "    </tr>\n",
       "  </thead>\n",
       "  <tbody>\n",
       "    <tr>\n",
       "      <th>0</th>\n",
       "      <td>6.0</td>\n",
       "      <td>0.133333</td>\n",
       "      <td>42.183333</td>\n",
       "      <td>6.375000</td>\n",
       "      <td>51.0</td>\n",
       "    </tr>\n",
       "    <tr>\n",
       "      <th>1</th>\n",
       "      <td>39.0</td>\n",
       "      <td>0.266667</td>\n",
       "      <td>392.333333</td>\n",
       "      <td>8.589744</td>\n",
       "      <td>335.0</td>\n",
       "    </tr>\n",
       "    <tr>\n",
       "      <th>2</th>\n",
       "      <td>6.0</td>\n",
       "      <td>0.283333</td>\n",
       "      <td>66.100000</td>\n",
       "      <td>6.333333</td>\n",
       "      <td>38.0</td>\n",
       "    </tr>\n",
       "    <tr>\n",
       "      <th>3</th>\n",
       "      <td>11.0</td>\n",
       "      <td>0.316667</td>\n",
       "      <td>149.666667</td>\n",
       "      <td>5.727273</td>\n",
       "      <td>63.0</td>\n",
       "    </tr>\n",
       "    <tr>\n",
       "      <th>5</th>\n",
       "      <td>39.0</td>\n",
       "      <td>0.350000</td>\n",
       "      <td>516.500000</td>\n",
       "      <td>8.500000</td>\n",
       "      <td>340.0</td>\n",
       "    </tr>\n",
       "    <tr>\n",
       "      <th>...</th>\n",
       "      <td>...</td>\n",
       "      <td>...</td>\n",
       "      <td>...</td>\n",
       "      <td>...</td>\n",
       "      <td>...</td>\n",
       "    </tr>\n",
       "    <tr>\n",
       "      <th>135</th>\n",
       "      <td>17.0</td>\n",
       "      <td>0.333333</td>\n",
       "      <td>248.800000</td>\n",
       "      <td>8.111111</td>\n",
       "      <td>146.0</td>\n",
       "    </tr>\n",
       "    <tr>\n",
       "      <th>136</th>\n",
       "      <td>17.0</td>\n",
       "      <td>0.100000</td>\n",
       "      <td>67.533333</td>\n",
       "      <td>6.176471</td>\n",
       "      <td>105.0</td>\n",
       "    </tr>\n",
       "    <tr>\n",
       "      <th>137</th>\n",
       "      <td>3.0</td>\n",
       "      <td>0.216667</td>\n",
       "      <td>32.583333</td>\n",
       "      <td>8.250000</td>\n",
       "      <td>33.0</td>\n",
       "    </tr>\n",
       "    <tr>\n",
       "      <th>138</th>\n",
       "      <td>4.0</td>\n",
       "      <td>0.266667</td>\n",
       "      <td>46.483333</td>\n",
       "      <td>5.400000</td>\n",
       "      <td>27.0</td>\n",
       "    </tr>\n",
       "    <tr>\n",
       "      <th>139</th>\n",
       "      <td>38.0</td>\n",
       "      <td>0.216667</td>\n",
       "      <td>315.133333</td>\n",
       "      <td>8.384615</td>\n",
       "      <td>327.0</td>\n",
       "    </tr>\n",
       "  </tbody>\n",
       "</table>\n",
       "<p>120 rows × 5 columns</p>\n",
       "</div>"
      ],
      "text/plain": [
       "     count_of_finished_lessons  average_timespent_for_item_minutes  \\\n",
       "0                          6.0                            0.133333   \n",
       "1                         39.0                            0.266667   \n",
       "2                          6.0                            0.283333   \n",
       "3                         11.0                            0.316667   \n",
       "5                         39.0                            0.350000   \n",
       "..                         ...                                 ...   \n",
       "135                       17.0                            0.333333   \n",
       "136                       17.0                            0.100000   \n",
       "137                        3.0                            0.216667   \n",
       "138                        4.0                            0.266667   \n",
       "139                       38.0                            0.216667   \n",
       "\n",
       "     total_time_spent_in_apps_minutes  average_points_for_lesson  \\\n",
       "0                           42.183333                   6.375000   \n",
       "1                          392.333333                   8.589744   \n",
       "2                           66.100000                   6.333333   \n",
       "3                          149.666667                   5.727273   \n",
       "5                          516.500000                   8.500000   \n",
       "..                                ...                        ...   \n",
       "135                        248.800000                   8.111111   \n",
       "136                         67.533333                   6.176471   \n",
       "137                         32.583333                   8.250000   \n",
       "138                         46.483333                   5.400000   \n",
       "139                        315.133333                   8.384615   \n",
       "\n",
       "     total_sum_of_points  \n",
       "0                   51.0  \n",
       "1                  335.0  \n",
       "2                   38.0  \n",
       "3                   63.0  \n",
       "5                  340.0  \n",
       "..                   ...  \n",
       "135                146.0  \n",
       "136                105.0  \n",
       "137                 33.0  \n",
       "138                 27.0  \n",
       "139                327.0  \n",
       "\n",
       "[120 rows x 5 columns]"
      ]
     },
     "execution_count": 281,
     "metadata": {},
     "output_type": "execute_result"
    }
   ],
   "source": [
    "data_adj_1 = data_1.copy()\n",
    "data_adj_1.dropna (how='all') "
   ]
  },
  {
   "cell_type": "code",
   "execution_count": 282,
   "id": "18008341",
   "metadata": {},
   "outputs": [],
   "source": [
    "cat_col_1 = [\"count_of_finished_lessons\",\"average_timespent_for_item_minutes\", \"total_time_spent_in_apps_minutes\", \"average_points_for_lesson\", \"total_sum_of_points\"]"
   ]
  },
  {
   "cell_type": "code",
   "execution_count": 283,
   "id": "a1ea5bef",
   "metadata": {},
   "outputs": [],
   "source": [
    "for col in cat_col_1:\n",
    "    labelencoder = LabelEncoder()\n",
    "    data_adj_1[col] = labelencoder.fit_transform(data_adj_1[col])"
   ]
  },
  {
   "cell_type": "code",
   "execution_count": 284,
   "id": "98ff7cf9",
   "metadata": {},
   "outputs": [
    {
     "data": {
      "text/html": [
       "<div>\n",
       "<style scoped>\n",
       "    .dataframe tbody tr th:only-of-type {\n",
       "        vertical-align: middle;\n",
       "    }\n",
       "\n",
       "    .dataframe tbody tr th {\n",
       "        vertical-align: top;\n",
       "    }\n",
       "\n",
       "    .dataframe thead th {\n",
       "        text-align: right;\n",
       "    }\n",
       "</style>\n",
       "<table border=\"1\" class=\"dataframe\">\n",
       "  <thead>\n",
       "    <tr style=\"text-align: right;\">\n",
       "      <th></th>\n",
       "      <th>count_of_finished_lessons</th>\n",
       "      <th>average_timespent_for_item_minutes</th>\n",
       "      <th>total_time_spent_in_apps_minutes</th>\n",
       "      <th>average_points_for_lesson</th>\n",
       "      <th>total_sum_of_points</th>\n",
       "    </tr>\n",
       "  </thead>\n",
       "  <tbody>\n",
       "    <tr>\n",
       "      <th>0</th>\n",
       "      <td>5</td>\n",
       "      <td>4</td>\n",
       "      <td>22</td>\n",
       "      <td>19</td>\n",
       "      <td>26</td>\n",
       "    </tr>\n",
       "    <tr>\n",
       "      <th>1</th>\n",
       "      <td>30</td>\n",
       "      <td>12</td>\n",
       "      <td>104</td>\n",
       "      <td>74</td>\n",
       "      <td>85</td>\n",
       "    </tr>\n",
       "    <tr>\n",
       "      <th>2</th>\n",
       "      <td>5</td>\n",
       "      <td>13</td>\n",
       "      <td>35</td>\n",
       "      <td>18</td>\n",
       "      <td>21</td>\n",
       "    </tr>\n",
       "    <tr>\n",
       "      <th>3</th>\n",
       "      <td>9</td>\n",
       "      <td>15</td>\n",
       "      <td>59</td>\n",
       "      <td>13</td>\n",
       "      <td>35</td>\n",
       "    </tr>\n",
       "    <tr>\n",
       "      <th>5</th>\n",
       "      <td>30</td>\n",
       "      <td>17</td>\n",
       "      <td>112</td>\n",
       "      <td>68</td>\n",
       "      <td>87</td>\n",
       "    </tr>\n",
       "    <tr>\n",
       "      <th>7</th>\n",
       "      <td>22</td>\n",
       "      <td>8</td>\n",
       "      <td>75</td>\n",
       "      <td>58</td>\n",
       "      <td>64</td>\n",
       "    </tr>\n",
       "    <tr>\n",
       "      <th>8</th>\n",
       "      <td>20</td>\n",
       "      <td>7</td>\n",
       "      <td>65</td>\n",
       "      <td>50</td>\n",
       "      <td>59</td>\n",
       "    </tr>\n",
       "  </tbody>\n",
       "</table>\n",
       "</div>"
      ],
      "text/plain": [
       "   count_of_finished_lessons  average_timespent_for_item_minutes  \\\n",
       "0                          5                                   4   \n",
       "1                         30                                  12   \n",
       "2                          5                                  13   \n",
       "3                          9                                  15   \n",
       "5                         30                                  17   \n",
       "7                         22                                   8   \n",
       "8                         20                                   7   \n",
       "\n",
       "   total_time_spent_in_apps_minutes  average_points_for_lesson  \\\n",
       "0                                22                         19   \n",
       "1                               104                         74   \n",
       "2                                35                         18   \n",
       "3                                59                         13   \n",
       "5                               112                         68   \n",
       "7                                75                         58   \n",
       "8                                65                         50   \n",
       "\n",
       "   total_sum_of_points  \n",
       "0                   26  \n",
       "1                   85  \n",
       "2                   21  \n",
       "3                   35  \n",
       "5                   87  \n",
       "7                   64  \n",
       "8                   59  "
      ]
     },
     "execution_count": 284,
     "metadata": {},
     "output_type": "execute_result"
    }
   ],
   "source": [
    "data_adj_1.head(7)"
   ]
  },
  {
   "cell_type": "code",
   "execution_count": 285,
   "id": "c651e324",
   "metadata": {},
   "outputs": [],
   "source": [
    "#стандартизация x текущее-x среднее/делим на стандартное отклонение\n",
    "scaler_1 = StandardScaler()\n",
    "scaled_data_1 = scaler.fit_transform(data_adj_1)\n",
    "scaled_data_1 = pd.DataFrame(scaled_data_1, columns=data_adj_1.columns)"
   ]
  },
  {
   "cell_type": "code",
   "execution_count": 286,
   "id": "a75a8f05",
   "metadata": {
    "scrolled": false
   },
   "outputs": [
    {
     "data": {
      "text/plain": [
       "array([[-1.0176251 , -1.10732632, -1.10711391, -0.96823395, -0.84559236],\n",
       "       [ 1.09692056,  0.15537095,  1.14182505,  0.79037467,  0.94870758],\n",
       "       [-1.0176251 ,  0.31320811, -0.7505748 , -1.00020865, -0.99765168],\n",
       "       [-0.67929779,  0.62888243, -0.09234877, -1.16008216, -0.57188559],\n",
       "       [ 1.09692056,  0.94455675,  1.36123372,  0.59852645,  1.00953131],\n",
       "       [ 0.42026595, -0.47597768,  0.34646859,  0.27877943,  0.31005845],\n",
       "       [ 0.2511023 , -0.63381484,  0.07220774,  0.02298182,  0.15799913],\n",
       "       [ 1.01233873,  2.20725402,  1.52579023,  0.56655175,  0.7662364 ],\n",
       "       [-1.3559524 , -0.31814052, -1.40880084, -1.44785448, -1.51465336],\n",
       "       [ 1.01233873, -0.94948916,  0.26419033,  1.2699952 ,  1.25282622],\n",
       "       [-1.10220692, -0.63381484, -1.21681825, -1.38390507, -1.14971099],\n",
       "       [-0.34097049,  0.47104527,  0.15448599,  0.88629877, -0.20694323],\n",
       "       [-1.18678875,  0.15537095, -1.05226174, -0.84033514, -1.08888727],\n",
       "       [-0.93304327, -1.10732632, -1.07968782, -0.45663871, -0.84559236],\n",
       "       [ 0.9277569 ,  0.62888243,  1.25152938,  0.47062765,  0.64458895],\n",
       "       [ 1.01233873,  0.47104527,  1.19667722, -0.10491699,  0.55335336],\n",
       "       [-0.25638866, -0.16030336,  0.01735557,  0.66247586, -0.08529577],\n",
       "       [ 1.09692056, -0.94948916,  0.3190425 ,  0.95024818,  1.03994317],\n",
       "       [ 1.26608421,  2.36509118,  1.55321632,  1.62171692,  1.52653299],\n",
       "       [ 0.08193864, -0.31814052,  0.23676425, -0.93625924,  0.00593982],\n",
       "       [ 1.09692056, -0.791652  ,  0.48359901,  1.3339446 ,  1.31364995],\n",
       "       [-1.44053423, -0.00246621, -1.60078343,  0.05495652, -1.51465336],\n",
       "       [-1.3559524 , -0.16030336, -1.24424433, -1.19205686, -1.27135845],\n",
       "       [-0.67929779, -0.16030336, -0.61344438,  0.11890592, -0.38941441],\n",
       "       [ 0.5894296 ,  0.47104527,  1.03212071,  1.3659193 ,  0.5229415 ],\n",
       "       [-1.27137057, -0.16030336, -1.16196608, -1.12810746, -1.14971099],\n",
       "       [ 1.09692056, -0.94948916,  0.29161642,  0.69445056,  0.88788386],\n",
       "       [ 0.33568412, -1.42300064, -0.42146179, -0.52058812,  0.06676354],\n",
       "       [-0.25638866,  1.10239391,  0.56587727,  0.40667824, -0.02447205],\n",
       "       [-1.27137057, -1.10732632, -1.46365301, -0.68046163, -1.21053472],\n",
       "       [-0.93304327,  0.31320811, -0.47631396, -0.64848693, -0.69353304],\n",
       "       [-1.3559524 , -0.63381484, -1.43622692, -1.51180388, -1.54506522],\n",
       "       [-0.00264318, -0.94948916, -0.22947919,  0.91827347,  0.12758727],\n",
       "       [ 1.26608421,  2.36509118,  1.55321632,  1.62171692,  1.52653299],\n",
       "       [ 1.01233873, -0.00246621,  1.05954679,  1.07814698,  1.1007669 ],\n",
       "       [-0.84846144, -0.94948916, -0.91513131, -1.25600626, -0.87600422],\n",
       "       [-0.84846144,  0.94455675, -0.25690528, -0.32873991, -0.63270932],\n",
       "       [ 1.01233873, -0.16030336,  0.8675642 ,  1.23802049,  1.19200249],\n",
       "       [-0.84846144, -0.00246621, -0.53116613, -0.90428454, -0.66312118],\n",
       "       [-1.0176251 , -0.791652  , -1.02483565, -1.31995567, -1.02806354],\n",
       "       [-1.3559524 ,  0.15537095, -1.51850518, -0.68046163, -1.33218217],\n",
       "       [-0.93304327,  0.94455675, -0.3940357 , -0.2328158 , -0.78476863],\n",
       "       [ 1.09692056,  0.62888243,  1.27895547,  1.42986871,  1.34406181],\n",
       "       [-1.0176251 , -0.47597768, -0.86027914, -1.09613275, -0.90641609],\n",
       "       [ 1.09692056, -0.00246621,  1.08697288,  1.3019699 ,  1.28323808],\n",
       "       [-1.18678875,  1.8915797 , -0.28433136, -0.55256282, -0.96723981],\n",
       "       [-0.93304327, -0.31814052, -0.64087047, -1.22403156, -0.93682795],\n",
       "       [-1.3559524 ,  0.47104527, -1.35394867, -1.35193037, -1.45382963],\n",
       "       [ 1.09692056, -1.26516348,  0.04478165, -0.00899288,  0.61417709],\n",
       "       [ 1.09692056,  0.62888243,  1.30638155,  1.46184341,  1.40488554],\n",
       "       [-1.27137057, -0.31814052, -1.2990965 , -1.47982918, -1.42341777],\n",
       "       [ 1.01233873, -0.47597768,  0.78528594,  0.08693122,  0.70541268],\n",
       "       [ 1.26608421, -1.10732632, -1.71048777, -1.44785448, -1.60588895],\n",
       "       [-0.84846144, -0.63381484, -0.77800089, -0.77638573, -0.75435677],\n",
       "       [ 0.16652047,  0.31320811,  0.5110251 ,  1.397894  ,  0.34047032],\n",
       "       [ 1.01233873, -0.47597768,  0.73043377,  1.17407109,  1.13117876],\n",
       "       [ 0.75859325, -1.10732632,  0.12705991,  0.21483003,  0.46211777],\n",
       "       [ 0.67401143,  0.62888243,  1.11439896,  1.55776751,  0.67500081],\n",
       "       [ 1.26608421,  2.36509118,  1.55321632,  1.62171692,  1.52653299],\n",
       "       [ 1.09692056, -0.47597768,  0.75785986, -0.2008411 ,  0.58376522],\n",
       "       [-0.34097049, -0.31814052, -0.17462702,  1.01419758, -0.11570764],\n",
       "       [-1.3559524 , -0.94948916, -1.57335735, -1.35193037, -1.45382963],\n",
       "       [-0.67929779, -0.94948916, -0.69572264, -0.2967652 , -0.45023813],\n",
       "       [-0.84846144, -0.63381484, -0.80542697, -0.68046163, -0.72394491],\n",
       "       [-0.34097049, -0.00246621, -0.11977485, -0.04096759, -0.23735509],\n",
       "       [ 1.09692056, -0.47597768,  0.6755816 ,  0.72642526,  0.91829572],\n",
       "       [ 0.33568412, -1.10732632, -0.14720094, -0.68046163,  0.09717541],\n",
       "       [-0.17180683, -1.10732632, -0.36660962, -0.32873991, -0.17653136],\n",
       "       [ 1.09692056,  0.78671959,  1.33380764,  1.52579281,  1.46570926],\n",
       "       [ 0.33568412, -0.16030336,  0.40132076, -0.48861342,  0.21882286],\n",
       "       [-0.59471596, -0.63381484, -0.55859221, -0.55256282, -0.41982627],\n",
       "       [-1.18678875,  0.31320811, -1.13453999, -0.87230984, -1.11929913],\n",
       "       [-0.84846144,  0.62888243, -0.33918353, -0.13689169, -0.51106186],\n",
       "       [-1.44053423, -1.10732632, -1.6556356 , -1.57575328, -1.63630081],\n",
       "       [ 1.18150238, -0.16030336,  0.94984245,  0.43865294,  0.88788386],\n",
       "       [ 1.18150238, -0.16030336,  1.00469462,  1.20604579,  1.37447367],\n",
       "       [-1.27137057, -0.94948916, -1.32652259, -1.44785448, -1.3930059 ],\n",
       "       [-1.44053423, -0.791652  , -1.54593126, -1.35193037, -1.45382963],\n",
       "       [-1.44053423, -0.47597768, -1.68306169, -1.35193037, -1.57547708],\n",
       "       [ 1.18150238,  0.31320811,  1.2241033 ,  1.11012169,  1.22241436],\n",
       "       [-1.44053423, -0.16030336, -1.38137476, -0.87230984, -1.36259404],\n",
       "       [ 1.09692056, -0.63381484,  0.64815552,  1.17407109,  1.28323808],\n",
       "       [ 0.16652047,  0.15537095,  0.45617293,  0.53457705,  0.188411  ],\n",
       "       [-1.27137057, -1.10732632, -1.43622692, -1.09613275, -1.24094658],\n",
       "       [ 1.09692056, -1.26516348,  0.09963382,  0.95024818,  1.03994317],\n",
       "       [ 0.84317508, -1.42300064, -0.0374966 , -0.07294229,  0.49252963],\n",
       "       [-0.76387962, -1.10732632, -0.96998348, -0.80836044, -0.60229745],\n",
       "       [ 1.09692056,  0.15537095,  1.16925113,  1.14209639,  1.25282622],\n",
       "       [ 1.26608421,  2.36509118,  1.55321632,  1.62171692,  1.52653299],\n",
       "       [ 1.09692056,  1.26023107,  1.41608589,  0.85432407,  0.97911945],\n",
       "       [-0.08722501,  0.47104527,  0.37389467, -0.58453752, -0.1461195 ],\n",
       "       [-1.18678875,  1.41806823, -0.66829655, -1.41587977, -1.18012286],\n",
       "       [-1.18678875,  0.15537095, -0.88770523, -1.28798097, -1.08888727],\n",
       "       [ 0.33568412,  0.31320811,  0.59330335,  0.18285533,  0.24923472],\n",
       "       [ 1.26608421,  2.36509118,  1.55321632,  1.62171692,  1.52653299],\n",
       "       [-0.84846144,  0.31320811, -0.44888787, -0.2647905 , -0.54147373],\n",
       "       [ 0.9277569 , -0.16030336,  0.92241637,  1.49381811,  1.4352974 ],\n",
       "       [ 0.75859325, -0.94948916,  0.20933816, -0.36071461,  0.40129404],\n",
       "       [-0.51013414, -0.791652  , -0.5860183 , -0.1688664 , -0.26776695],\n",
       "       [ 1.09692056, -0.31814052,  0.84013811,  1.58974222,  1.49612113],\n",
       "       [ 1.26608421,  2.36509118,  1.55321632,  1.62171692,  1.52653299],\n",
       "       [ 0.50484777,  2.04941686,  1.47093806,  0.15088063,  0.37088218],\n",
       "       [ 1.09692056, -0.791652  ,  0.53845118,  0.63050116,  0.85747199],\n",
       "       [ 1.09692056, -0.16030336,  0.89499028,  0.37470354,  0.79664827],\n",
       "       [-1.3559524 , -0.47597768, -1.49107909, -0.32873991, -1.30177031],\n",
       "       [ 1.26608421,  2.36509118,  1.55321632,  1.62171692,  1.52653299],\n",
       "       [-1.3559524 , -0.00246621, -1.27167042, -1.54377858, -1.48424149],\n",
       "       [ 1.26608421,  2.36509118,  1.55321632,  1.62171692,  1.52653299],\n",
       "       [ 0.33568412, -1.5808378 , -0.50374004,  0.31075414,  0.27964659],\n",
       "       [ 1.09692056,  1.41806823,  1.44351198,  0.82234937,  1.07035504],\n",
       "       [ 0.08193864,  0.78671959,  0.70300769,  0.75839996,  0.06676354],\n",
       "       [-1.10220692, -0.31814052, -0.83285306, -0.42466401, -0.8151805 ],\n",
       "       [ 1.09692056, -0.63381484,  0.62072943,  0.24680473,  0.73582454],\n",
       "       [-0.42555231, -0.47597768, -0.20205311, -0.61651222, -0.32859068],\n",
       "       [ 1.09692056, -0.16030336,  0.97726854,  0.37470354,  0.79664827],\n",
       "       [ 1.01233873,  1.73374254,  1.49836415,  1.04617228,  1.19200249],\n",
       "       [-0.59471596,  0.15537095, -0.06492269, -1.06415805, -0.48065   ],\n",
       "       [ 0.84317508, -1.26516348, -0.01007052, -0.71243633,  0.43170591],\n",
       "       [ 1.18150238,  0.94455675,  1.38865981,  0.98222288,  1.16159063],\n",
       "       [-1.44053423, -1.73867496, -1.62820952, -1.51180388, -1.54506522],\n",
       "       [ 0.16652047, -1.10732632, -0.31175745, -0.39268931,  0.03635168],\n",
       "       [-1.27137057,  1.57590539, -0.9425574 , -1.35193037, -1.30177031],\n",
       "       [-0.51013414,  0.94455675,  0.18191208, -0.74441103, -0.35900254],\n",
       "       [-0.25638866,  0.78671959,  0.42874684,  0.15088063, -0.05488391],\n",
       "       [-0.25638866, -1.42300064, -0.72314872, -1.03218335, -0.29817882],\n",
       "       [-1.27137057, -0.31814052, -1.18939216,  0.34272884, -1.0584754 ],\n",
       "       [-1.18678875,  0.15537095, -0.99740957, -1.28798097, -1.08888727],\n",
       "       [ 1.01233873, -0.31814052,  0.81271203,  0.50260235,  0.82706013]])"
      ]
     },
     "execution_count": 286,
     "metadata": {},
     "output_type": "execute_result"
    }
   ],
   "source": [
    "x_cluster_1=scaled_data_1.values\n",
    "x_cluster_1"
   ]
  },
  {
   "cell_type": "code",
   "execution_count": 287,
   "id": "e53c02ca",
   "metadata": {},
   "outputs": [],
   "source": [
    "sse = []\n",
    "for k in np.arange(1,10,1):\n",
    "    kmeans = KMeans(n_clusters=k, n_init=10, max_iter=300, random_state=10)\n",
    "    kmeans.fit(x_cluster_1)\n",
    "    sse.append(kmeans.inertia_)"
   ]
  },
  {
   "cell_type": "code",
   "execution_count": 374,
   "id": "42b0e9ad",
   "metadata": {},
   "outputs": [
    {
     "data": {
      "image/png": "[encoded data removed]",
      "text/plain": [
       "<Figure size 432x288 with 1 Axes>"
      ]
     },
     "metadata": {},
     "output_type": "display_data"
    }
   ],
   "source": [
    "plt.style.use(\"fivethirtyeight\")\n",
    "plt.plot(np.arange(1,10,1), sse, color='C2')\n",
    "plt.xticks(np.arange(1,10,1))\n",
    "plt.xlabel(\"Number of Cluster\")\n",
    "plt.ylabel(\"SSE\")\n",
    "plt.show()"
   ]
  },
  {
   "cell_type": "code",
   "execution_count": 289,
   "id": "128ddcd0",
   "metadata": {},
   "outputs": [
    {
     "data": {
      "text/plain": [
       "3"
      ]
     },
     "execution_count": 289,
     "metadata": {},
     "output_type": "execute_result"
    }
   ],
   "source": [
    "K1 = KneeLocator(np.arange(1, 10, 1), sse, curve=\"convex\", direction=\"decreasing\")\n",
    "K1.elbow"
   ]
  },
  {
   "cell_type": "code",
   "execution_count": 290,
   "id": "7240908b",
   "metadata": {},
   "outputs": [
    {
     "data": {
      "text/plain": [
       "KMeans(n_clusters=3, random_state=10)"
      ]
     },
     "execution_count": 290,
     "metadata": {},
     "output_type": "execute_result"
    }
   ],
   "source": [
    "#на этот раз забиваем в модель 3 кластера\n",
    "kmeans = KMeans(n_clusters=3, n_init=10, max_iter=300, random_state=10)\n",
    "kmeans.fit(scaled_data_1)"
   ]
  },
  {
   "cell_type": "code",
   "execution_count": 291,
   "id": "06162d2b",
   "metadata": {},
   "outputs": [],
   "source": [
    "data_adj_1['x_cluster_1'] = cluster"
   ]
  },
  {
   "cell_type": "code",
   "execution_count": 292,
   "id": "6ebc5cff",
   "metadata": {},
   "outputs": [
    {
     "data": {
      "text/plain": [
       "array([1, 2, 1, 1, 2, 0, 0, 2, 1, 0, 1, 0, 1, 1, 2, 0, 0, 0, 2, 0, 0, 1,\n",
       "       1, 1, 2, 1, 0, 0, 0, 1, 1, 1, 0, 2, 2, 1, 1, 2, 1, 1, 1, 1, 2, 1,\n",
       "       2, 1, 1, 1, 0, 2, 1, 0, 1, 1, 0, 0, 0, 2, 2, 0, 0, 1, 1, 1, 0, 0,\n",
       "       0, 0, 2, 0, 1, 1, 1, 1, 0, 2, 1, 1, 1, 2, 1, 0, 0, 1, 0, 0, 1, 2,\n",
       "       2, 2, 0, 1, 1, 0, 2, 1, 2, 0, 1, 2, 2, 2, 0, 0, 1, 2, 1, 2, 0, 2,\n",
       "       0, 1, 0, 1, 0, 2, 1, 0, 2, 1, 0, 1, 1, 0, 1, 1, 1, 0], dtype=int32)"
      ]
     },
     "execution_count": 292,
     "metadata": {},
     "output_type": "execute_result"
    }
   ],
   "source": [
    "#к какому кластеру алгоритм отнес каждлого пользователя\n",
    "cluster_1 = kmeans.labels_\n",
    "cluster_1"
   ]
  },
  {
   "cell_type": "code",
   "execution_count": 293,
   "id": "472a46d6",
   "metadata": {},
   "outputs": [
    {
     "data": {
      "text/plain": [
       "x_cluster_1\n",
       "0    62\n",
       "1    66\n",
       "dtype: int64"
      ]
     },
     "execution_count": 293,
     "metadata": {},
     "output_type": "execute_result"
    }
   ],
   "source": [
    "data_adj_1.groupby('x_cluster_1').size()"
   ]
  },
  {
   "cell_type": "code",
   "execution_count": 294,
   "id": "6d2dd8b0",
   "metadata": {},
   "outputs": [
    {
     "data": {
      "text/html": [
       "<div>\n",
       "<style scoped>\n",
       "    .dataframe tbody tr th:only-of-type {\n",
       "        vertical-align: middle;\n",
       "    }\n",
       "\n",
       "    .dataframe tbody tr th {\n",
       "        vertical-align: top;\n",
       "    }\n",
       "\n",
       "    .dataframe thead th {\n",
       "        text-align: right;\n",
       "    }\n",
       "</style>\n",
       "<table border=\"1\" class=\"dataframe\">\n",
       "  <thead>\n",
       "    <tr style=\"text-align: right;\">\n",
       "      <th></th>\n",
       "      <th>count_of_finished_lessons</th>\n",
       "      <th>average_timespent_for_item_minutes</th>\n",
       "      <th>total_time_spent_in_apps_minutes</th>\n",
       "      <th>average_points_for_lesson</th>\n",
       "      <th>total_sum_of_points</th>\n",
       "    </tr>\n",
       "    <tr>\n",
       "      <th>x_cluster_1</th>\n",
       "      <th></th>\n",
       "      <th></th>\n",
       "      <th></th>\n",
       "      <th></th>\n",
       "      <th></th>\n",
       "    </tr>\n",
       "  </thead>\n",
       "  <tbody>\n",
       "    <tr>\n",
       "      <th>0</th>\n",
       "      <td>27.854839</td>\n",
       "      <td>12.725806</td>\n",
       "      <td>93.806452</td>\n",
       "      <td>74.887097</td>\n",
       "      <td>83.532258</td>\n",
       "    </tr>\n",
       "    <tr>\n",
       "      <th>1</th>\n",
       "      <td>6.863636</td>\n",
       "      <td>9.409091</td>\n",
       "      <td>32.833333</td>\n",
       "      <td>25.227273</td>\n",
       "      <td>25.878788</td>\n",
       "    </tr>\n",
       "  </tbody>\n",
       "</table>\n",
       "</div>"
      ],
      "text/plain": [
       "             count_of_finished_lessons  average_timespent_for_item_minutes  \\\n",
       "x_cluster_1                                                                  \n",
       "0                            27.854839                           12.725806   \n",
       "1                             6.863636                            9.409091   \n",
       "\n",
       "             total_time_spent_in_apps_minutes  average_points_for_lesson  \\\n",
       "x_cluster_1                                                                \n",
       "0                                   93.806452                  74.887097   \n",
       "1                                   32.833333                  25.227273   \n",
       "\n",
       "             total_sum_of_points  \n",
       "x_cluster_1                       \n",
       "0                      83.532258  \n",
       "1                      25.878788  "
      ]
     },
     "execution_count": 294,
     "metadata": {},
     "output_type": "execute_result"
    }
   ],
   "source": [
    "means_1 = data_adj_1.groupby('x_cluster_1').mean()\n",
    "means_1"
   ]
  },
  {
   "cell_type": "code",
   "execution_count": 295,
   "id": "9e0112f2",
   "metadata": {},
   "outputs": [
    {
     "data": {
      "text/html": [
       "<div>\n",
       "<style scoped>\n",
       "    .dataframe tbody tr th:only-of-type {\n",
       "        vertical-align: middle;\n",
       "    }\n",
       "\n",
       "    .dataframe tbody tr th {\n",
       "        vertical-align: top;\n",
       "    }\n",
       "\n",
       "    .dataframe thead th {\n",
       "        text-align: right;\n",
       "    }\n",
       "</style>\n",
       "<table border=\"1\" class=\"dataframe\">\n",
       "  <thead>\n",
       "    <tr style=\"text-align: right;\">\n",
       "      <th></th>\n",
       "      <th>0</th>\n",
       "      <th>1</th>\n",
       "      <th>2</th>\n",
       "      <th>3</th>\n",
       "      <th>4</th>\n",
       "    </tr>\n",
       "  </thead>\n",
       "  <tbody>\n",
       "    <tr>\n",
       "      <th>0</th>\n",
       "      <td>-1.017625</td>\n",
       "      <td>-1.107326</td>\n",
       "      <td>-1.107114</td>\n",
       "      <td>-0.968234</td>\n",
       "      <td>-0.845592</td>\n",
       "    </tr>\n",
       "    <tr>\n",
       "      <th>1</th>\n",
       "      <td>1.096921</td>\n",
       "      <td>0.155371</td>\n",
       "      <td>1.141825</td>\n",
       "      <td>0.790375</td>\n",
       "      <td>0.948708</td>\n",
       "    </tr>\n",
       "    <tr>\n",
       "      <th>2</th>\n",
       "      <td>-1.017625</td>\n",
       "      <td>0.313208</td>\n",
       "      <td>-0.750575</td>\n",
       "      <td>-1.000209</td>\n",
       "      <td>-0.997652</td>\n",
       "    </tr>\n",
       "    <tr>\n",
       "      <th>3</th>\n",
       "      <td>-0.679298</td>\n",
       "      <td>0.628882</td>\n",
       "      <td>-0.092349</td>\n",
       "      <td>-1.160082</td>\n",
       "      <td>-0.571886</td>\n",
       "    </tr>\n",
       "    <tr>\n",
       "      <th>4</th>\n",
       "      <td>1.096921</td>\n",
       "      <td>0.944557</td>\n",
       "      <td>1.361234</td>\n",
       "      <td>0.598526</td>\n",
       "      <td>1.009531</td>\n",
       "    </tr>\n",
       "    <tr>\n",
       "      <th>...</th>\n",
       "      <td>...</td>\n",
       "      <td>...</td>\n",
       "      <td>...</td>\n",
       "      <td>...</td>\n",
       "      <td>...</td>\n",
       "    </tr>\n",
       "    <tr>\n",
       "      <th>123</th>\n",
       "      <td>-0.256389</td>\n",
       "      <td>0.786720</td>\n",
       "      <td>0.428747</td>\n",
       "      <td>0.150881</td>\n",
       "      <td>-0.054884</td>\n",
       "    </tr>\n",
       "    <tr>\n",
       "      <th>124</th>\n",
       "      <td>-0.256389</td>\n",
       "      <td>-1.423001</td>\n",
       "      <td>-0.723149</td>\n",
       "      <td>-1.032183</td>\n",
       "      <td>-0.298179</td>\n",
       "    </tr>\n",
       "    <tr>\n",
       "      <th>125</th>\n",
       "      <td>-1.271371</td>\n",
       "      <td>-0.318141</td>\n",
       "      <td>-1.189392</td>\n",
       "      <td>0.342729</td>\n",
       "      <td>-1.058475</td>\n",
       "    </tr>\n",
       "    <tr>\n",
       "      <th>126</th>\n",
       "      <td>-1.186789</td>\n",
       "      <td>0.155371</td>\n",
       "      <td>-0.997410</td>\n",
       "      <td>-1.287981</td>\n",
       "      <td>-1.088887</td>\n",
       "    </tr>\n",
       "    <tr>\n",
       "      <th>127</th>\n",
       "      <td>1.012339</td>\n",
       "      <td>-0.318141</td>\n",
       "      <td>0.812712</td>\n",
       "      <td>0.502602</td>\n",
       "      <td>0.827060</td>\n",
       "    </tr>\n",
       "  </tbody>\n",
       "</table>\n",
       "<p>128 rows × 5 columns</p>\n",
       "</div>"
      ],
      "text/plain": [
       "            0         1         2         3         4\n",
       "0   -1.017625 -1.107326 -1.107114 -0.968234 -0.845592\n",
       "1    1.096921  0.155371  1.141825  0.790375  0.948708\n",
       "2   -1.017625  0.313208 -0.750575 -1.000209 -0.997652\n",
       "3   -0.679298  0.628882 -0.092349 -1.160082 -0.571886\n",
       "4    1.096921  0.944557  1.361234  0.598526  1.009531\n",
       "..        ...       ...       ...       ...       ...\n",
       "123 -0.256389  0.786720  0.428747  0.150881 -0.054884\n",
       "124 -0.256389 -1.423001 -0.723149 -1.032183 -0.298179\n",
       "125 -1.271371 -0.318141 -1.189392  0.342729 -1.058475\n",
       "126 -1.186789  0.155371 -0.997410 -1.287981 -1.088887\n",
       "127  1.012339 -0.318141  0.812712  0.502602  0.827060\n",
       "\n",
       "[128 rows x 5 columns]"
      ]
     },
     "execution_count": 295,
     "metadata": {},
     "output_type": "execute_result"
    }
   ],
   "source": [
    "#преобразовать массив в dataframe\n",
    "df_2 = pd.DataFrame(data=x_cluster_1)\n",
    "df_2"
   ]
  },
  {
   "cell_type": "code",
   "execution_count": 296,
   "id": "8d432cfd",
   "metadata": {},
   "outputs": [
    {
     "data": {
      "text/html": [
       "<div>\n",
       "<style scoped>\n",
       "    .dataframe tbody tr th:only-of-type {\n",
       "        vertical-align: middle;\n",
       "    }\n",
       "\n",
       "    .dataframe tbody tr th {\n",
       "        vertical-align: top;\n",
       "    }\n",
       "\n",
       "    .dataframe thead th {\n",
       "        text-align: right;\n",
       "    }\n",
       "</style>\n",
       "<table border=\"1\" class=\"dataframe\">\n",
       "  <thead>\n",
       "    <tr style=\"text-align: right;\">\n",
       "      <th></th>\n",
       "      <th>0</th>\n",
       "    </tr>\n",
       "  </thead>\n",
       "  <tbody>\n",
       "    <tr>\n",
       "      <th>0</th>\n",
       "      <td>1</td>\n",
       "    </tr>\n",
       "    <tr>\n",
       "      <th>1</th>\n",
       "      <td>2</td>\n",
       "    </tr>\n",
       "    <tr>\n",
       "      <th>2</th>\n",
       "      <td>1</td>\n",
       "    </tr>\n",
       "    <tr>\n",
       "      <th>3</th>\n",
       "      <td>1</td>\n",
       "    </tr>\n",
       "    <tr>\n",
       "      <th>4</th>\n",
       "      <td>2</td>\n",
       "    </tr>\n",
       "    <tr>\n",
       "      <th>...</th>\n",
       "      <td>...</td>\n",
       "    </tr>\n",
       "    <tr>\n",
       "      <th>123</th>\n",
       "      <td>0</td>\n",
       "    </tr>\n",
       "    <tr>\n",
       "      <th>124</th>\n",
       "      <td>1</td>\n",
       "    </tr>\n",
       "    <tr>\n",
       "      <th>125</th>\n",
       "      <td>1</td>\n",
       "    </tr>\n",
       "    <tr>\n",
       "      <th>126</th>\n",
       "      <td>1</td>\n",
       "    </tr>\n",
       "    <tr>\n",
       "      <th>127</th>\n",
       "      <td>0</td>\n",
       "    </tr>\n",
       "  </tbody>\n",
       "</table>\n",
       "<p>128 rows × 1 columns</p>\n",
       "</div>"
      ],
      "text/plain": [
       "     0\n",
       "0    1\n",
       "1    2\n",
       "2    1\n",
       "3    1\n",
       "4    2\n",
       "..  ..\n",
       "123  0\n",
       "124  1\n",
       "125  1\n",
       "126  1\n",
       "127  0\n",
       "\n",
       "[128 rows x 1 columns]"
      ]
     },
     "execution_count": 296,
     "metadata": {},
     "output_type": "execute_result"
    }
   ],
   "source": [
    "df_3=pd.DataFrame(data=cluster_1)\n",
    "df_3"
   ]
  },
  {
   "cell_type": "code",
   "execution_count": 416,
   "id": "4c711c4c",
   "metadata": {},
   "outputs": [
    {
     "data": {
      "image/png": "[encoded data removed]",
      "text/plain": [
       "<Figure size 432x288 with 1 Axes>"
      ]
     },
     "metadata": {},
     "output_type": "display_data"
    }
   ],
   "source": [
    "ax2 = df.plot.scatter(x=\"count_of_finished_lessons\", y=\"average_timespent_for_item_minutes\", color='magenta')"
   ]
  },
  {
   "cell_type": "code",
   "execution_count": 298,
   "id": "07cbc695",
   "metadata": {},
   "outputs": [
    {
     "data": {
      "text/plain": [
       "1    55\n",
       "0    43\n",
       "2    30\n",
       "Name: 0, dtype: int64"
      ]
     },
     "execution_count": 298,
     "metadata": {},
     "output_type": "execute_result"
    }
   ],
   "source": [
    "df_3[0].value_counts()"
   ]
  },
  {
   "cell_type": "code",
   "execution_count": 300,
   "id": "29b8e427",
   "metadata": {},
   "outputs": [],
   "source": [
    "df.reset_index(drop= True, inplace= True )"
   ]
  },
  {
   "cell_type": "code",
   "execution_count": 301,
   "id": "9f1fe5aa",
   "metadata": {},
   "outputs": [
    {
     "data": {
      "text/html": [
       "<div>\n",
       "<style scoped>\n",
       "    .dataframe tbody tr th:only-of-type {\n",
       "        vertical-align: middle;\n",
       "    }\n",
       "\n",
       "    .dataframe tbody tr th {\n",
       "        vertical-align: top;\n",
       "    }\n",
       "\n",
       "    .dataframe thead th {\n",
       "        text-align: right;\n",
       "    }\n",
       "</style>\n",
       "<table border=\"1\" class=\"dataframe\">\n",
       "  <thead>\n",
       "    <tr style=\"text-align: right;\">\n",
       "      <th></th>\n",
       "      <th>id</th>\n",
       "      <th>password</th>\n",
       "      <th>last_login</th>\n",
       "      <th>is_superuser</th>\n",
       "      <th>is_staff</th>\n",
       "      <th>is_active</th>\n",
       "      <th>date_joined</th>\n",
       "      <th>email</th>\n",
       "      <th>key</th>\n",
       "      <th>first_name</th>\n",
       "      <th>...</th>\n",
       "      <th>total_sum_of_points_LOG</th>\n",
       "      <th>total_time_spent_in_apps_seconds</th>\n",
       "      <th>total_time_spent_in_apps_minutes</th>\n",
       "      <th>average_timespent_for_item_seconds</th>\n",
       "      <th>average_timespent_for_item_minutes</th>\n",
       "      <th>average_timespent_for_lesson_seconds</th>\n",
       "      <th>average_timespent_for_lesson_minutes</th>\n",
       "      <th>total_time_spent_in_apps_minutes_LOG</th>\n",
       "      <th>average_timespent_for_item_minutes_LOG</th>\n",
       "      <th>average_timespent_for_lesson_minutes_LOG</th>\n",
       "    </tr>\n",
       "  </thead>\n",
       "  <tbody>\n",
       "    <tr>\n",
       "      <th>0</th>\n",
       "      <td>91</td>\n",
       "      <td>NaN</td>\n",
       "      <td>NaN</td>\n",
       "      <td>False</td>\n",
       "      <td>False</td>\n",
       "      <td>True</td>\n",
       "      <td>2021-08-03 11:33:05.653</td>\n",
       "      <td>yakushev@gigant.pro</td>\n",
       "      <td>HR4HKC1V</td>\n",
       "      <td>Якушев</td>\n",
       "      <td>...</td>\n",
       "      <td>3.931826</td>\n",
       "      <td>2531.0</td>\n",
       "      <td>42.183333</td>\n",
       "      <td>8.0</td>\n",
       "      <td>0.133333</td>\n",
       "      <td>341.0</td>\n",
       "      <td>5.683333</td>\n",
       "      <td>3.742025</td>\n",
       "      <td>-2.014903</td>\n",
       "      <td>1.737538</td>\n",
       "    </tr>\n",
       "    <tr>\n",
       "      <th>1</th>\n",
       "      <td>138</td>\n",
       "      <td>NaN</td>\n",
       "      <td>NaN</td>\n",
       "      <td>False</td>\n",
       "      <td>False</td>\n",
       "      <td>True</td>\n",
       "      <td>2021-08-03 11:33:05.653</td>\n",
       "      <td>Tyakubov@it-service.spb.ru</td>\n",
       "      <td>QTGZP7DS</td>\n",
       "      <td>Якубов</td>\n",
       "      <td>...</td>\n",
       "      <td>5.814131</td>\n",
       "      <td>23540.0</td>\n",
       "      <td>392.333333</td>\n",
       "      <td>16.0</td>\n",
       "      <td>0.266667</td>\n",
       "      <td>650.0</td>\n",
       "      <td>10.833333</td>\n",
       "      <td>5.972112</td>\n",
       "      <td>-1.321756</td>\n",
       "      <td>2.382628</td>\n",
       "    </tr>\n",
       "    <tr>\n",
       "      <th>2</th>\n",
       "      <td>224</td>\n",
       "      <td>NaN</td>\n",
       "      <td>NaN</td>\n",
       "      <td>False</td>\n",
       "      <td>False</td>\n",
       "      <td>True</td>\n",
       "      <td>2021-08-20 14:51:36.750</td>\n",
       "      <td>yakimov@vtprint.pro</td>\n",
       "      <td>M75SE7NE</td>\n",
       "      <td>Якимов</td>\n",
       "      <td>...</td>\n",
       "      <td>3.637586</td>\n",
       "      <td>3966.0</td>\n",
       "      <td>66.100000</td>\n",
       "      <td>17.0</td>\n",
       "      <td>0.283333</td>\n",
       "      <td>729.0</td>\n",
       "      <td>12.150000</td>\n",
       "      <td>4.191169</td>\n",
       "      <td>-1.261131</td>\n",
       "      <td>2.497329</td>\n",
       "    </tr>\n",
       "    <tr>\n",
       "      <th>3</th>\n",
       "      <td>249</td>\n",
       "      <td>NaN</td>\n",
       "      <td>NaN</td>\n",
       "      <td>False</td>\n",
       "      <td>False</td>\n",
       "      <td>True</td>\n",
       "      <td>2021-09-30 17:19:53.443</td>\n",
       "      <td>Yusova@blackyar.ru</td>\n",
       "      <td>88UP6N7O</td>\n",
       "      <td>Юсова</td>\n",
       "      <td>...</td>\n",
       "      <td>4.143135</td>\n",
       "      <td>8980.0</td>\n",
       "      <td>149.666667</td>\n",
       "      <td>19.0</td>\n",
       "      <td>0.316667</td>\n",
       "      <td>867.0</td>\n",
       "      <td>14.450000</td>\n",
       "      <td>5.008411</td>\n",
       "      <td>-1.149906</td>\n",
       "      <td>2.670694</td>\n",
       "    </tr>\n",
       "    <tr>\n",
       "      <th>4</th>\n",
       "      <td>38</td>\n",
       "      <td>NaN</td>\n",
       "      <td>NaN</td>\n",
       "      <td>False</td>\n",
       "      <td>False</td>\n",
       "      <td>True</td>\n",
       "      <td>2021-08-03 11:33:05.653</td>\n",
       "      <td>ls@uralcpt.ru</td>\n",
       "      <td>L86V2DM2</td>\n",
       "      <td>Шихалева</td>\n",
       "      <td>...</td>\n",
       "      <td>5.828946</td>\n",
       "      <td>30990.0</td>\n",
       "      <td>516.500000</td>\n",
       "      <td>21.0</td>\n",
       "      <td>0.350000</td>\n",
       "      <td>820.0</td>\n",
       "      <td>13.666667</td>\n",
       "      <td>6.247075</td>\n",
       "      <td>-1.049822</td>\n",
       "      <td>2.614960</td>\n",
       "    </tr>\n",
       "    <tr>\n",
       "      <th>...</th>\n",
       "      <td>...</td>\n",
       "      <td>...</td>\n",
       "      <td>...</td>\n",
       "      <td>...</td>\n",
       "      <td>...</td>\n",
       "      <td>...</td>\n",
       "      <td>...</td>\n",
       "      <td>...</td>\n",
       "      <td>...</td>\n",
       "      <td>...</td>\n",
       "      <td>...</td>\n",
       "      <td>...</td>\n",
       "      <td>...</td>\n",
       "      <td>...</td>\n",
       "      <td>...</td>\n",
       "      <td>...</td>\n",
       "      <td>...</td>\n",
       "      <td>...</td>\n",
       "      <td>...</td>\n",
       "      <td>...</td>\n",
       "      <td>...</td>\n",
       "    </tr>\n",
       "    <tr>\n",
       "      <th>123</th>\n",
       "      <td>139</td>\n",
       "      <td>NaN</td>\n",
       "      <td>NaN</td>\n",
       "      <td>False</td>\n",
       "      <td>False</td>\n",
       "      <td>True</td>\n",
       "      <td>2021-08-03 11:33:05.653</td>\n",
       "      <td>Alexander.Andreichev@softline.com</td>\n",
       "      <td>96TVLXRE</td>\n",
       "      <td>Андреичев</td>\n",
       "      <td>...</td>\n",
       "      <td>4.983607</td>\n",
       "      <td>14928.0</td>\n",
       "      <td>248.800000</td>\n",
       "      <td>20.0</td>\n",
       "      <td>0.333333</td>\n",
       "      <td>882.0</td>\n",
       "      <td>14.700000</td>\n",
       "      <td>5.516649</td>\n",
       "      <td>-1.098612</td>\n",
       "      <td>2.687847</td>\n",
       "    </tr>\n",
       "    <tr>\n",
       "      <th>124</th>\n",
       "      <td>94</td>\n",
       "      <td>NaN</td>\n",
       "      <td>NaN</td>\n",
       "      <td>False</td>\n",
       "      <td>False</td>\n",
       "      <td>True</td>\n",
       "      <td>2021-08-03 11:33:05.653</td>\n",
       "      <td>alidmitry@mika.ru</td>\n",
       "      <td>MY6VL6UP</td>\n",
       "      <td>Алибеков</td>\n",
       "      <td>...</td>\n",
       "      <td>4.653960</td>\n",
       "      <td>4052.0</td>\n",
       "      <td>67.533333</td>\n",
       "      <td>6.0</td>\n",
       "      <td>0.100000</td>\n",
       "      <td>263.0</td>\n",
       "      <td>4.383333</td>\n",
       "      <td>4.212621</td>\n",
       "      <td>-2.302585</td>\n",
       "      <td>1.477809</td>\n",
       "    </tr>\n",
       "    <tr>\n",
       "      <th>125</th>\n",
       "      <td>86</td>\n",
       "      <td>NaN</td>\n",
       "      <td>NaN</td>\n",
       "      <td>False</td>\n",
       "      <td>False</td>\n",
       "      <td>True</td>\n",
       "      <td>2021-08-03 11:33:05.650</td>\n",
       "      <td>nat@zeongroup.ru</td>\n",
       "      <td>755UR1BF</td>\n",
       "      <td>Ажбалова</td>\n",
       "      <td>...</td>\n",
       "      <td>3.496508</td>\n",
       "      <td>1955.0</td>\n",
       "      <td>32.583333</td>\n",
       "      <td>13.0</td>\n",
       "      <td>0.216667</td>\n",
       "      <td>572.0</td>\n",
       "      <td>9.533333</td>\n",
       "      <td>3.483801</td>\n",
       "      <td>-1.529395</td>\n",
       "      <td>2.254794</td>\n",
       "    </tr>\n",
       "    <tr>\n",
       "      <th>126</th>\n",
       "      <td>35</td>\n",
       "      <td>NaN</td>\n",
       "      <td>NaN</td>\n",
       "      <td>False</td>\n",
       "      <td>False</td>\n",
       "      <td>True</td>\n",
       "      <td>2021-08-03 11:33:05.650</td>\n",
       "      <td>avtonomova@gsgroup.it</td>\n",
       "      <td>6VD2PQ7E</td>\n",
       "      <td>Автономова</td>\n",
       "      <td>...</td>\n",
       "      <td>3.295837</td>\n",
       "      <td>2789.0</td>\n",
       "      <td>46.483333</td>\n",
       "      <td>16.0</td>\n",
       "      <td>0.266667</td>\n",
       "      <td>627.0</td>\n",
       "      <td>10.450000</td>\n",
       "      <td>3.839094</td>\n",
       "      <td>-1.321756</td>\n",
       "      <td>2.346602</td>\n",
       "    </tr>\n",
       "    <tr>\n",
       "      <th>127</th>\n",
       "      <td>102</td>\n",
       "      <td>NaN</td>\n",
       "      <td>NaN</td>\n",
       "      <td>False</td>\n",
       "      <td>False</td>\n",
       "      <td>True</td>\n",
       "      <td>2021-08-03 11:33:05.653</td>\n",
       "      <td>nina.abramova@graphitech.ru</td>\n",
       "      <td>N6YD9DGA</td>\n",
       "      <td>Абрамова</td>\n",
       "      <td>...</td>\n",
       "      <td>5.789960</td>\n",
       "      <td>18908.0</td>\n",
       "      <td>315.133333</td>\n",
       "      <td>13.0</td>\n",
       "      <td>0.216667</td>\n",
       "      <td>515.0</td>\n",
       "      <td>8.583333</td>\n",
       "      <td>5.752996</td>\n",
       "      <td>-1.529395</td>\n",
       "      <td>2.149822</td>\n",
       "    </tr>\n",
       "  </tbody>\n",
       "</table>\n",
       "<p>128 rows × 54 columns</p>\n",
       "</div>"
      ],
      "text/plain": [
       "      id  password  last_login  is_superuser  is_staff  is_active  \\\n",
       "0     91       NaN         NaN         False     False       True   \n",
       "1    138       NaN         NaN         False     False       True   \n",
       "2    224       NaN         NaN         False     False       True   \n",
       "3    249       NaN         NaN         False     False       True   \n",
       "4     38       NaN         NaN         False     False       True   \n",
       "..   ...       ...         ...           ...       ...        ...   \n",
       "123  139       NaN         NaN         False     False       True   \n",
       "124   94       NaN         NaN         False     False       True   \n",
       "125   86       NaN         NaN         False     False       True   \n",
       "126   35       NaN         NaN         False     False       True   \n",
       "127  102       NaN         NaN         False     False       True   \n",
       "\n",
       "                date_joined                              email       key  \\\n",
       "0   2021-08-03 11:33:05.653                yakushev@gigant.pro  HR4HKC1V   \n",
       "1   2021-08-03 11:33:05.653         Tyakubov@it-service.spb.ru  QTGZP7DS   \n",
       "2   2021-08-20 14:51:36.750                yakimov@vtprint.pro  M75SE7NE   \n",
       "3   2021-09-30 17:19:53.443                 Yusova@blackyar.ru  88UP6N7O   \n",
       "4   2021-08-03 11:33:05.653                      ls@uralcpt.ru  L86V2DM2   \n",
       "..                      ...                                ...       ...   \n",
       "123 2021-08-03 11:33:05.653  Alexander.Andreichev@softline.com  96TVLXRE   \n",
       "124 2021-08-03 11:33:05.653                  alidmitry@mika.ru  MY6VL6UP   \n",
       "125 2021-08-03 11:33:05.650                   nat@zeongroup.ru  755UR1BF   \n",
       "126 2021-08-03 11:33:05.650              avtonomova@gsgroup.it  6VD2PQ7E   \n",
       "127 2021-08-03 11:33:05.653        nina.abramova@graphitech.ru  N6YD9DGA   \n",
       "\n",
       "     first_name  ... total_sum_of_points_LOG total_time_spent_in_apps_seconds  \\\n",
       "0        Якушев  ...                3.931826                           2531.0   \n",
       "1        Якубов  ...                5.814131                          23540.0   \n",
       "2        Якимов  ...                3.637586                           3966.0   \n",
       "3         Юсова  ...                4.143135                           8980.0   \n",
       "4      Шихалева  ...                5.828946                          30990.0   \n",
       "..          ...  ...                     ...                              ...   \n",
       "123   Андреичев  ...                4.983607                          14928.0   \n",
       "124    Алибеков  ...                4.653960                           4052.0   \n",
       "125    Ажбалова  ...                3.496508                           1955.0   \n",
       "126  Автономова  ...                3.295837                           2789.0   \n",
       "127    Абрамова  ...                5.789960                          18908.0   \n",
       "\n",
       "     total_time_spent_in_apps_minutes average_timespent_for_item_seconds  \\\n",
       "0                           42.183333                                8.0   \n",
       "1                          392.333333                               16.0   \n",
       "2                           66.100000                               17.0   \n",
       "3                          149.666667                               19.0   \n",
       "4                          516.500000                               21.0   \n",
       "..                                ...                                ...   \n",
       "123                        248.800000                               20.0   \n",
       "124                         67.533333                                6.0   \n",
       "125                         32.583333                               13.0   \n",
       "126                         46.483333                               16.0   \n",
       "127                        315.133333                               13.0   \n",
       "\n",
       "     average_timespent_for_item_minutes average_timespent_for_lesson_seconds  \\\n",
       "0                              0.133333                                341.0   \n",
       "1                              0.266667                                650.0   \n",
       "2                              0.283333                                729.0   \n",
       "3                              0.316667                                867.0   \n",
       "4                              0.350000                                820.0   \n",
       "..                                  ...                                  ...   \n",
       "123                            0.333333                                882.0   \n",
       "124                            0.100000                                263.0   \n",
       "125                            0.216667                                572.0   \n",
       "126                            0.266667                                627.0   \n",
       "127                            0.216667                                515.0   \n",
       "\n",
       "     average_timespent_for_lesson_minutes  \\\n",
       "0                                5.683333   \n",
       "1                               10.833333   \n",
       "2                               12.150000   \n",
       "3                               14.450000   \n",
       "4                               13.666667   \n",
       "..                                    ...   \n",
       "123                             14.700000   \n",
       "124                              4.383333   \n",
       "125                              9.533333   \n",
       "126                             10.450000   \n",
       "127                              8.583333   \n",
       "\n",
       "     total_time_spent_in_apps_minutes_LOG  \\\n",
       "0                                3.742025   \n",
       "1                                5.972112   \n",
       "2                                4.191169   \n",
       "3                                5.008411   \n",
       "4                                6.247075   \n",
       "..                                    ...   \n",
       "123                              5.516649   \n",
       "124                              4.212621   \n",
       "125                              3.483801   \n",
       "126                              3.839094   \n",
       "127                              5.752996   \n",
       "\n",
       "     average_timespent_for_item_minutes_LOG  \\\n",
       "0                                 -2.014903   \n",
       "1                                 -1.321756   \n",
       "2                                 -1.261131   \n",
       "3                                 -1.149906   \n",
       "4                                 -1.049822   \n",
       "..                                      ...   \n",
       "123                               -1.098612   \n",
       "124                               -2.302585   \n",
       "125                               -1.529395   \n",
       "126                               -1.321756   \n",
       "127                               -1.529395   \n",
       "\n",
       "     average_timespent_for_lesson_minutes_LOG  \n",
       "0                                    1.737538  \n",
       "1                                    2.382628  \n",
       "2                                    2.497329  \n",
       "3                                    2.670694  \n",
       "4                                    2.614960  \n",
       "..                                        ...  \n",
       "123                                  2.687847  \n",
       "124                                  1.477809  \n",
       "125                                  2.254794  \n",
       "126                                  2.346602  \n",
       "127                                  2.149822  \n",
       "\n",
       "[128 rows x 54 columns]"
      ]
     },
     "execution_count": 301,
     "metadata": {},
     "output_type": "execute_result"
    }
   ],
   "source": [
    "df"
   ]
  },
  {
   "cell_type": "code",
   "execution_count": 302,
   "id": "c1bacf70",
   "metadata": {},
   "outputs": [
    {
     "data": {
      "text/html": [
       "<div>\n",
       "<style scoped>\n",
       "    .dataframe tbody tr th:only-of-type {\n",
       "        vertical-align: middle;\n",
       "    }\n",
       "\n",
       "    .dataframe tbody tr th {\n",
       "        vertical-align: top;\n",
       "    }\n",
       "\n",
       "    .dataframe thead th {\n",
       "        text-align: right;\n",
       "    }\n",
       "</style>\n",
       "<table border=\"1\" class=\"dataframe\">\n",
       "  <thead>\n",
       "    <tr style=\"text-align: right;\">\n",
       "      <th></th>\n",
       "      <th>id</th>\n",
       "      <th>password</th>\n",
       "      <th>last_login</th>\n",
       "      <th>is_superuser</th>\n",
       "      <th>is_staff</th>\n",
       "      <th>is_active</th>\n",
       "      <th>date_joined</th>\n",
       "      <th>email</th>\n",
       "      <th>key</th>\n",
       "      <th>first_name</th>\n",
       "      <th>...</th>\n",
       "      <th>total_time_spent_in_apps_minutes</th>\n",
       "      <th>average_timespent_for_item_seconds</th>\n",
       "      <th>average_timespent_for_item_minutes</th>\n",
       "      <th>average_timespent_for_lesson_seconds</th>\n",
       "      <th>average_timespent_for_lesson_minutes</th>\n",
       "      <th>total_time_spent_in_apps_minutes_LOG</th>\n",
       "      <th>average_timespent_for_item_minutes_LOG</th>\n",
       "      <th>average_timespent_for_lesson_minutes_LOG</th>\n",
       "      <th>0</th>\n",
       "      <th>cluster</th>\n",
       "    </tr>\n",
       "  </thead>\n",
       "  <tbody>\n",
       "    <tr>\n",
       "      <th>0</th>\n",
       "      <td>91</td>\n",
       "      <td>NaN</td>\n",
       "      <td>NaN</td>\n",
       "      <td>False</td>\n",
       "      <td>False</td>\n",
       "      <td>True</td>\n",
       "      <td>2021-08-03 11:33:05.653</td>\n",
       "      <td>yakushev@gigant.pro</td>\n",
       "      <td>HR4HKC1V</td>\n",
       "      <td>Якушев</td>\n",
       "      <td>...</td>\n",
       "      <td>42.183333</td>\n",
       "      <td>8.0</td>\n",
       "      <td>0.133333</td>\n",
       "      <td>341.0</td>\n",
       "      <td>5.683333</td>\n",
       "      <td>3.742025</td>\n",
       "      <td>-2.014903</td>\n",
       "      <td>1.737538</td>\n",
       "      <td>1</td>\n",
       "      <td>1</td>\n",
       "    </tr>\n",
       "    <tr>\n",
       "      <th>1</th>\n",
       "      <td>138</td>\n",
       "      <td>NaN</td>\n",
       "      <td>NaN</td>\n",
       "      <td>False</td>\n",
       "      <td>False</td>\n",
       "      <td>True</td>\n",
       "      <td>2021-08-03 11:33:05.653</td>\n",
       "      <td>Tyakubov@it-service.spb.ru</td>\n",
       "      <td>QTGZP7DS</td>\n",
       "      <td>Якубов</td>\n",
       "      <td>...</td>\n",
       "      <td>392.333333</td>\n",
       "      <td>16.0</td>\n",
       "      <td>0.266667</td>\n",
       "      <td>650.0</td>\n",
       "      <td>10.833333</td>\n",
       "      <td>5.972112</td>\n",
       "      <td>-1.321756</td>\n",
       "      <td>2.382628</td>\n",
       "      <td>2</td>\n",
       "      <td>2</td>\n",
       "    </tr>\n",
       "    <tr>\n",
       "      <th>2</th>\n",
       "      <td>224</td>\n",
       "      <td>NaN</td>\n",
       "      <td>NaN</td>\n",
       "      <td>False</td>\n",
       "      <td>False</td>\n",
       "      <td>True</td>\n",
       "      <td>2021-08-20 14:51:36.750</td>\n",
       "      <td>yakimov@vtprint.pro</td>\n",
       "      <td>M75SE7NE</td>\n",
       "      <td>Якимов</td>\n",
       "      <td>...</td>\n",
       "      <td>66.100000</td>\n",
       "      <td>17.0</td>\n",
       "      <td>0.283333</td>\n",
       "      <td>729.0</td>\n",
       "      <td>12.150000</td>\n",
       "      <td>4.191169</td>\n",
       "      <td>-1.261131</td>\n",
       "      <td>2.497329</td>\n",
       "      <td>1</td>\n",
       "      <td>1</td>\n",
       "    </tr>\n",
       "    <tr>\n",
       "      <th>3</th>\n",
       "      <td>249</td>\n",
       "      <td>NaN</td>\n",
       "      <td>NaN</td>\n",
       "      <td>False</td>\n",
       "      <td>False</td>\n",
       "      <td>True</td>\n",
       "      <td>2021-09-30 17:19:53.443</td>\n",
       "      <td>Yusova@blackyar.ru</td>\n",
       "      <td>88UP6N7O</td>\n",
       "      <td>Юсова</td>\n",
       "      <td>...</td>\n",
       "      <td>149.666667</td>\n",
       "      <td>19.0</td>\n",
       "      <td>0.316667</td>\n",
       "      <td>867.0</td>\n",
       "      <td>14.450000</td>\n",
       "      <td>5.008411</td>\n",
       "      <td>-1.149906</td>\n",
       "      <td>2.670694</td>\n",
       "      <td>1</td>\n",
       "      <td>1</td>\n",
       "    </tr>\n",
       "    <tr>\n",
       "      <th>4</th>\n",
       "      <td>38</td>\n",
       "      <td>NaN</td>\n",
       "      <td>NaN</td>\n",
       "      <td>False</td>\n",
       "      <td>False</td>\n",
       "      <td>True</td>\n",
       "      <td>2021-08-03 11:33:05.653</td>\n",
       "      <td>ls@uralcpt.ru</td>\n",
       "      <td>L86V2DM2</td>\n",
       "      <td>Шихалева</td>\n",
       "      <td>...</td>\n",
       "      <td>516.500000</td>\n",
       "      <td>21.0</td>\n",
       "      <td>0.350000</td>\n",
       "      <td>820.0</td>\n",
       "      <td>13.666667</td>\n",
       "      <td>6.247075</td>\n",
       "      <td>-1.049822</td>\n",
       "      <td>2.614960</td>\n",
       "      <td>2</td>\n",
       "      <td>2</td>\n",
       "    </tr>\n",
       "    <tr>\n",
       "      <th>...</th>\n",
       "      <td>...</td>\n",
       "      <td>...</td>\n",
       "      <td>...</td>\n",
       "      <td>...</td>\n",
       "      <td>...</td>\n",
       "      <td>...</td>\n",
       "      <td>...</td>\n",
       "      <td>...</td>\n",
       "      <td>...</td>\n",
       "      <td>...</td>\n",
       "      <td>...</td>\n",
       "      <td>...</td>\n",
       "      <td>...</td>\n",
       "      <td>...</td>\n",
       "      <td>...</td>\n",
       "      <td>...</td>\n",
       "      <td>...</td>\n",
       "      <td>...</td>\n",
       "      <td>...</td>\n",
       "      <td>...</td>\n",
       "      <td>...</td>\n",
       "    </tr>\n",
       "    <tr>\n",
       "      <th>123</th>\n",
       "      <td>139</td>\n",
       "      <td>NaN</td>\n",
       "      <td>NaN</td>\n",
       "      <td>False</td>\n",
       "      <td>False</td>\n",
       "      <td>True</td>\n",
       "      <td>2021-08-03 11:33:05.653</td>\n",
       "      <td>Alexander.Andreichev@softline.com</td>\n",
       "      <td>96TVLXRE</td>\n",
       "      <td>Андреичев</td>\n",
       "      <td>...</td>\n",
       "      <td>248.800000</td>\n",
       "      <td>20.0</td>\n",
       "      <td>0.333333</td>\n",
       "      <td>882.0</td>\n",
       "      <td>14.700000</td>\n",
       "      <td>5.516649</td>\n",
       "      <td>-1.098612</td>\n",
       "      <td>2.687847</td>\n",
       "      <td>0</td>\n",
       "      <td>0</td>\n",
       "    </tr>\n",
       "    <tr>\n",
       "      <th>124</th>\n",
       "      <td>94</td>\n",
       "      <td>NaN</td>\n",
       "      <td>NaN</td>\n",
       "      <td>False</td>\n",
       "      <td>False</td>\n",
       "      <td>True</td>\n",
       "      <td>2021-08-03 11:33:05.653</td>\n",
       "      <td>alidmitry@mika.ru</td>\n",
       "      <td>MY6VL6UP</td>\n",
       "      <td>Алибеков</td>\n",
       "      <td>...</td>\n",
       "      <td>67.533333</td>\n",
       "      <td>6.0</td>\n",
       "      <td>0.100000</td>\n",
       "      <td>263.0</td>\n",
       "      <td>4.383333</td>\n",
       "      <td>4.212621</td>\n",
       "      <td>-2.302585</td>\n",
       "      <td>1.477809</td>\n",
       "      <td>1</td>\n",
       "      <td>1</td>\n",
       "    </tr>\n",
       "    <tr>\n",
       "      <th>125</th>\n",
       "      <td>86</td>\n",
       "      <td>NaN</td>\n",
       "      <td>NaN</td>\n",
       "      <td>False</td>\n",
       "      <td>False</td>\n",
       "      <td>True</td>\n",
       "      <td>2021-08-03 11:33:05.650</td>\n",
       "      <td>nat@zeongroup.ru</td>\n",
       "      <td>755UR1BF</td>\n",
       "      <td>Ажбалова</td>\n",
       "      <td>...</td>\n",
       "      <td>32.583333</td>\n",
       "      <td>13.0</td>\n",
       "      <td>0.216667</td>\n",
       "      <td>572.0</td>\n",
       "      <td>9.533333</td>\n",
       "      <td>3.483801</td>\n",
       "      <td>-1.529395</td>\n",
       "      <td>2.254794</td>\n",
       "      <td>1</td>\n",
       "      <td>1</td>\n",
       "    </tr>\n",
       "    <tr>\n",
       "      <th>126</th>\n",
       "      <td>35</td>\n",
       "      <td>NaN</td>\n",
       "      <td>NaN</td>\n",
       "      <td>False</td>\n",
       "      <td>False</td>\n",
       "      <td>True</td>\n",
       "      <td>2021-08-03 11:33:05.650</td>\n",
       "      <td>avtonomova@gsgroup.it</td>\n",
       "      <td>6VD2PQ7E</td>\n",
       "      <td>Автономова</td>\n",
       "      <td>...</td>\n",
       "      <td>46.483333</td>\n",
       "      <td>16.0</td>\n",
       "      <td>0.266667</td>\n",
       "      <td>627.0</td>\n",
       "      <td>10.450000</td>\n",
       "      <td>3.839094</td>\n",
       "      <td>-1.321756</td>\n",
       "      <td>2.346602</td>\n",
       "      <td>1</td>\n",
       "      <td>1</td>\n",
       "    </tr>\n",
       "    <tr>\n",
       "      <th>127</th>\n",
       "      <td>102</td>\n",
       "      <td>NaN</td>\n",
       "      <td>NaN</td>\n",
       "      <td>False</td>\n",
       "      <td>False</td>\n",
       "      <td>True</td>\n",
       "      <td>2021-08-03 11:33:05.653</td>\n",
       "      <td>nina.abramova@graphitech.ru</td>\n",
       "      <td>N6YD9DGA</td>\n",
       "      <td>Абрамова</td>\n",
       "      <td>...</td>\n",
       "      <td>315.133333</td>\n",
       "      <td>13.0</td>\n",
       "      <td>0.216667</td>\n",
       "      <td>515.0</td>\n",
       "      <td>8.583333</td>\n",
       "      <td>5.752996</td>\n",
       "      <td>-1.529395</td>\n",
       "      <td>2.149822</td>\n",
       "      <td>0</td>\n",
       "      <td>0</td>\n",
       "    </tr>\n",
       "  </tbody>\n",
       "</table>\n",
       "<p>128 rows × 56 columns</p>\n",
       "</div>"
      ],
      "text/plain": [
       "      id  password  last_login  is_superuser  is_staff  is_active  \\\n",
       "0     91       NaN         NaN         False     False       True   \n",
       "1    138       NaN         NaN         False     False       True   \n",
       "2    224       NaN         NaN         False     False       True   \n",
       "3    249       NaN         NaN         False     False       True   \n",
       "4     38       NaN         NaN         False     False       True   \n",
       "..   ...       ...         ...           ...       ...        ...   \n",
       "123  139       NaN         NaN         False     False       True   \n",
       "124   94       NaN         NaN         False     False       True   \n",
       "125   86       NaN         NaN         False     False       True   \n",
       "126   35       NaN         NaN         False     False       True   \n",
       "127  102       NaN         NaN         False     False       True   \n",
       "\n",
       "                date_joined                              email       key  \\\n",
       "0   2021-08-03 11:33:05.653                yakushev@gigant.pro  HR4HKC1V   \n",
       "1   2021-08-03 11:33:05.653         Tyakubov@it-service.spb.ru  QTGZP7DS   \n",
       "2   2021-08-20 14:51:36.750                yakimov@vtprint.pro  M75SE7NE   \n",
       "3   2021-09-30 17:19:53.443                 Yusova@blackyar.ru  88UP6N7O   \n",
       "4   2021-08-03 11:33:05.653                      ls@uralcpt.ru  L86V2DM2   \n",
       "..                      ...                                ...       ...   \n",
       "123 2021-08-03 11:33:05.653  Alexander.Andreichev@softline.com  96TVLXRE   \n",
       "124 2021-08-03 11:33:05.653                  alidmitry@mika.ru  MY6VL6UP   \n",
       "125 2021-08-03 11:33:05.650                   nat@zeongroup.ru  755UR1BF   \n",
       "126 2021-08-03 11:33:05.650              avtonomova@gsgroup.it  6VD2PQ7E   \n",
       "127 2021-08-03 11:33:05.653        nina.abramova@graphitech.ru  N6YD9DGA   \n",
       "\n",
       "     first_name  ... total_time_spent_in_apps_minutes  \\\n",
       "0        Якушев  ...                        42.183333   \n",
       "1        Якубов  ...                       392.333333   \n",
       "2        Якимов  ...                        66.100000   \n",
       "3         Юсова  ...                       149.666667   \n",
       "4      Шихалева  ...                       516.500000   \n",
       "..          ...  ...                              ...   \n",
       "123   Андреичев  ...                       248.800000   \n",
       "124    Алибеков  ...                        67.533333   \n",
       "125    Ажбалова  ...                        32.583333   \n",
       "126  Автономова  ...                        46.483333   \n",
       "127    Абрамова  ...                       315.133333   \n",
       "\n",
       "    average_timespent_for_item_seconds  average_timespent_for_item_minutes  \\\n",
       "0                                  8.0                            0.133333   \n",
       "1                                 16.0                            0.266667   \n",
       "2                                 17.0                            0.283333   \n",
       "3                                 19.0                            0.316667   \n",
       "4                                 21.0                            0.350000   \n",
       "..                                 ...                                 ...   \n",
       "123                               20.0                            0.333333   \n",
       "124                                6.0                            0.100000   \n",
       "125                               13.0                            0.216667   \n",
       "126                               16.0                            0.266667   \n",
       "127                               13.0                            0.216667   \n",
       "\n",
       "    average_timespent_for_lesson_seconds  \\\n",
       "0                                  341.0   \n",
       "1                                  650.0   \n",
       "2                                  729.0   \n",
       "3                                  867.0   \n",
       "4                                  820.0   \n",
       "..                                   ...   \n",
       "123                                882.0   \n",
       "124                                263.0   \n",
       "125                                572.0   \n",
       "126                                627.0   \n",
       "127                                515.0   \n",
       "\n",
       "     average_timespent_for_lesson_minutes  \\\n",
       "0                                5.683333   \n",
       "1                               10.833333   \n",
       "2                               12.150000   \n",
       "3                               14.450000   \n",
       "4                               13.666667   \n",
       "..                                    ...   \n",
       "123                             14.700000   \n",
       "124                              4.383333   \n",
       "125                              9.533333   \n",
       "126                             10.450000   \n",
       "127                              8.583333   \n",
       "\n",
       "    total_time_spent_in_apps_minutes_LOG  \\\n",
       "0                               3.742025   \n",
       "1                               5.972112   \n",
       "2                               4.191169   \n",
       "3                               5.008411   \n",
       "4                               6.247075   \n",
       "..                                   ...   \n",
       "123                             5.516649   \n",
       "124                             4.212621   \n",
       "125                             3.483801   \n",
       "126                             3.839094   \n",
       "127                             5.752996   \n",
       "\n",
       "     average_timespent_for_item_minutes_LOG  \\\n",
       "0                                 -2.014903   \n",
       "1                                 -1.321756   \n",
       "2                                 -1.261131   \n",
       "3                                 -1.149906   \n",
       "4                                 -1.049822   \n",
       "..                                      ...   \n",
       "123                               -1.098612   \n",
       "124                               -2.302585   \n",
       "125                               -1.529395   \n",
       "126                               -1.321756   \n",
       "127                               -1.529395   \n",
       "\n",
       "     average_timespent_for_lesson_minutes_LOG  0  cluster  \n",
       "0                                    1.737538  1        1  \n",
       "1                                    2.382628  2        2  \n",
       "2                                    2.497329  1        1  \n",
       "3                                    2.670694  1        1  \n",
       "4                                    2.614960  2        2  \n",
       "..                                        ... ..      ...  \n",
       "123                                  2.687847  0        0  \n",
       "124                                  1.477809  1        1  \n",
       "125                                  2.254794  1        1  \n",
       "126                                  2.346602  1        1  \n",
       "127                                  2.149822  0        0  \n",
       "\n",
       "[128 rows x 56 columns]"
      ]
     },
     "execution_count": 302,
     "metadata": {},
     "output_type": "execute_result"
    }
   ],
   "source": [
    "df_new=df.join(df_3)\n",
    "df_new['cluster']=df_new[0]\n",
    "df_new['cluster']=df_new['cluster'].values.astype('str')\n",
    "df_new"
   ]
  },
  {
   "cell_type": "code",
   "execution_count": 303,
   "id": "06667274",
   "metadata": {},
   "outputs": [
    {
     "data": {
      "text/plain": [
       "1    55\n",
       "0    43\n",
       "2    30\n",
       "Name: cluster, dtype: int64"
      ]
     },
     "execution_count": 303,
     "metadata": {},
     "output_type": "execute_result"
    }
   ],
   "source": [
    "df_new.cluster.value_counts()"
   ]
  },
  {
   "cell_type": "code",
   "execution_count": 383,
   "id": "c64a65df",
   "metadata": {},
   "outputs": [
    {
     "data": {
      "text/plain": [
       "Text(0, 0.5, 'total_time_spent_in_apps_minutes')"
      ]
     },
     "execution_count": 383,
     "metadata": {},
     "output_type": "execute_result"
    },
    {
     "data": {
      "image/png": "[encoded data removed]",
      "text/plain": [
       "<Figure size 432x288 with 1 Axes>"
      ]
     },
     "metadata": {},
     "output_type": "display_data"
    }
   ],
   "source": [
    "#Строим графики, в которых разбиваем пользователей приложения на полученные кластеры\n",
    "colors = {\"0\":\"c\", \"1\":\"m\", \"2\":\"b\"}\n",
    "fig, ax = plt.subplots()\n",
    "for i in range(len(df_new['count_of_finished_lessons'])):\n",
    "    ax.scatter(df_new['count_of_finished_lessons'][i], df_new['total_time_spent_in_apps_minutes'][i], color=colors[df_new['cluster'][i]])\n",
    "ax.set_title(\"Clusters\")\n",
    "ax.set_xlabel(\"count_of_finished_lessons\")\n",
    "ax.set_ylabel(\"total_time_spent_in_apps_minutes\")"
   ]
  },
  {
   "cell_type": "code",
   "execution_count": 384,
   "id": "97a9590c",
   "metadata": {},
   "outputs": [
    {
     "data": {
      "text/plain": [
       "Text(0, 0.5, 'average_points_for_lesson')"
      ]
     },
     "execution_count": 384,
     "metadata": {},
     "output_type": "execute_result"
    },
    {
     "data": {
      "image/png": "[encoded data removed]",
      "text/plain": [
       "<Figure size 432x288 with 1 Axes>"
      ]
     },
     "metadata": {},
     "output_type": "display_data"
    }
   ],
   "source": [
    "#Строим графики, в которых разбиваем пользователей приложения на полученные кластеры\n",
    "fig, ax = plt.subplots()\n",
    "for i in range(len(df_new['total_sum_of_points'])):\n",
    "    ax.scatter(df_new['total_sum_of_points'][i], df_new['average_points_for_lesson'][i], color=colors[df_new['cluster'][i]])\n",
    "ax.set_title(\"Clusters\")\n",
    "ax.set_xlabel(\"total_sum_of_points\")\n",
    "ax.set_ylabel(\"average_points_for_lesson\")"
   ]
  },
  {
   "cell_type": "code",
   "execution_count": 382,
   "id": "d83e9488",
   "metadata": {},
   "outputs": [
    {
     "data": {
      "text/plain": [
       "Text(0, 0.5, 'average_points_for_lesson')"
      ]
     },
     "execution_count": 382,
     "metadata": {},
     "output_type": "execute_result"
    },
    {
     "data": {
      "image/png": "[encoded data removed]",
      "text/plain": [
       "<Figure size 432x288 with 1 Axes>"
      ]
     },
     "metadata": {},
     "output_type": "display_data"
    }
   ],
   "source": [
    "#Строим графики, в которых разбиваем пользователей приложения на полученные кластеры\n",
    "fig, ax = plt.subplots()\n",
    "for i in range(len(df_new['total_time_spent_in_apps_minutes'])):\n",
    "    ax.scatter(df_new['total_time_spent_in_apps_minutes'][i], df_new['average_points_for_lesson'][i], color=colors[df_new['cluster'][i]])\n",
    "ax.set_title(\"Clusters\")\n",
    "ax.set_xlabel(\"total_time_spent_in_apps_minutes\")\n",
    "ax.set_ylabel(\"average_points_for_lesson\")"
   ]
  },
  {
   "cell_type": "markdown",
   "id": "77dfe825",
   "metadata": {},
   "source": [
    "Этот график демонстрирует линейную зависимость. Попробуем еще раз посчитать корреляцию и построить корреляционную модель."
   ]
  },
  {
   "cell_type": "code",
   "execution_count": 307,
   "id": "41cd346f",
   "metadata": {},
   "outputs": [],
   "source": [
    "x_4 = abs(df.total_time_spent_in_apps_minutes)\n",
    "y_4 = df.average_points_for_lesson"
   ]
  },
  {
   "cell_type": "code",
   "execution_count": 309,
   "id": "b1f82871",
   "metadata": {},
   "outputs": [],
   "source": [
    "x_4=x_4[~np.isnan (x_4)]\n",
    "y_4=y_4[~np.isnan (y_4)]"
   ]
  },
  {
   "cell_type": "code",
   "execution_count": 310,
   "id": "eaa7f5c9",
   "metadata": {},
   "outputs": [
    {
     "data": {
      "text/plain": [
       "array([[1.        , 0.63235177],\n",
       "       [0.63235177, 1.        ]])"
      ]
     },
     "execution_count": 310,
     "metadata": {},
     "output_type": "execute_result"
    }
   ],
   "source": [
    "np.corrcoef(x_4, y_4)"
   ]
  },
  {
   "cell_type": "code",
   "execution_count": 311,
   "id": "8bdc138c",
   "metadata": {},
   "outputs": [
    {
     "data": {
      "text/plain": [
       "(0.6323517668728742, 9.448739649370651e-15)"
      ]
     },
     "execution_count": 311,
     "metadata": {},
     "output_type": "execute_result"
    }
   ],
   "source": [
    "#коэффициент корреляции с помощью scipy\n",
    "st.pearsonr(x_4, y_4)"
   ]
  },
  {
   "cell_type": "code",
   "execution_count": 314,
   "id": "76c697a6",
   "metadata": {},
   "outputs": [
    {
     "data": {
      "text/plain": [
       "KendalltauResult(correlation=0.6148244959473109, pvalue=2.902953846329418e-23)"
      ]
     },
     "execution_count": 314,
     "metadata": {},
     "output_type": "execute_result"
    }
   ],
   "source": [
    "#коэффициент корреляции по Кендаллу - лучше всего в нашем случае, поскольку второй показатель не имеет нормального распределения\n",
    "st.kendalltau(x_4, y_4)"
   ]
  },
  {
   "cell_type": "code",
   "execution_count": 315,
   "id": "e1174de5",
   "metadata": {},
   "outputs": [
    {
     "data": {
      "text/plain": [
       "SpearmanrResult(correlation=0.8183541956121546, pvalue=3.6787283863215134e-30)"
      ]
     },
     "execution_count": 315,
     "metadata": {},
     "output_type": "execute_result"
    }
   ],
   "source": [
    "#коэффициент корреляции по Спирману с помощью использования рангов\n",
    "st.spearmanr(x_4, y_4)"
   ]
  },
  {
   "cell_type": "markdown",
   "id": "ed1d0d84",
   "metadata": {},
   "source": [
    "Последний тест показывает достаточную тестоту связи. Попробуем по этим двум показателям рассчитать модель"
   ]
  },
  {
   "cell_type": "code",
   "execution_count": 316,
   "id": "d503e288",
   "metadata": {},
   "outputs": [
    {
     "name": "stdout",
     "output_type": "stream",
     "text": [
      "                                OLS Regression Results                               \n",
      "=====================================================================================\n",
      "Dep. Variable:     average_points_for_lesson   R-squared:                       0.400\n",
      "Model:                                   OLS   Adj. R-squared:                  0.395\n",
      "Method:                        Least Squares   F-statistic:                     78.62\n",
      "Date:                       Mon, 29 May 2023   Prob (F-statistic):           9.45e-15\n",
      "Time:                               23:10:06   Log-Likelihood:                -198.64\n",
      "No. Observations:                        120   AIC:                             401.3\n",
      "Df Residuals:                            118   BIC:                             406.9\n",
      "Df Model:                                  1                                         \n",
      "Covariance Type:                   nonrobust                                         \n",
      "====================================================================================================\n",
      "                                       coef    std err          t      P>|t|      [0.025      0.975]\n",
      "----------------------------------------------------------------------------------------------------\n",
      "const                                6.2443      0.169     36.866      0.000       5.909       6.580\n",
      "total_time_spent_in_apps_minutes     0.0056      0.001      8.867      0.000       0.004       0.007\n",
      "==============================================================================\n",
      "Omnibus:                       25.244   Durbin-Watson:                   2.196\n",
      "Prob(Omnibus):                  0.000   Jarque-Bera (JB):               33.854\n",
      "Skew:                          -1.123   Prob(JB):                     4.45e-08\n",
      "Kurtosis:                       4.313   Cond. No.                         393.\n",
      "==============================================================================\n",
      "\n",
      "Notes:\n",
      "[1] Standard Errors assume that the covariance matrix of the errors is correctly specified.\n"
     ]
    }
   ],
   "source": [
    "x_4 = sm.add_constant(x_4)  # добавить константу, чтобы был свободный член\n",
    "model = sm.OLS(y_4, x_4)  # говорим модели, что у нас ЗП, а что НП\n",
    "results = model.fit()  # строим регрессионную прямую\n",
    "print(results.summary())  # смотрим результат"
   ]
  },
  {
   "cell_type": "markdown",
   "id": "84a91587",
   "metadata": {},
   "source": [
    "Результат - не очень большой коэффициент детерминации (должны быть хотя бы 0.5, то есть данная модель объясняет слишком маленький процент - около 40%. Если бы мы могли построить линейную модель, то она получилось бы следующей - y=0.0056*x+6.2443.\n",
    "Возможно имеет смысл продолжать поиск, и добавить к модель другие параметры/независимые переменные. "
   ]
  },
  {
   "cell_type": "code",
   "execution_count": null,
   "id": "3dfdeea0",
   "metadata": {},
   "outputs": [],
   "source": []
  }
 ],
 "metadata": {
  "kernelspec": {
   "display_name": "Python 3 (ipykernel)",
   "language": "python",
   "name": "python3"
  },
  "language_info": {
   "codemirror_mode": {
    "name": "ipython",
    "version": 3
   },
   "file_extension": ".py",
   "mimetype": "text/x-python",
   "name": "python",
   "nbconvert_exporter": "python",
   "pygments_lexer": "ipython3",
   "version": "3.9.12"
  }
 },
 "nbformat": 4,
 "nbformat_minor": 5
}
